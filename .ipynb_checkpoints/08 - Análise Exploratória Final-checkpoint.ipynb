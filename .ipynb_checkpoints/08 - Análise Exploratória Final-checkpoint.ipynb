{
 "cells": [
  {
   "cell_type": "markdown",
   "metadata": {},
   "source": [
    "### Análise Exploratória do Titanic"
   ]
  },
  {
   "cell_type": "markdown",
   "metadata": {},
   "source": [
    "1 - Quantas pessoas sobreviveram ao desastre, segundo este dataset? Quantas não sobreviveram? (Avalie em relação ao sexo, à quantidade de filhos, à idade, à classe, etc...)\n",
    "    \n",
    "2 - Qual foi a proporção de homens e mulheres que sobreviveram a tragédia?\n",
    "    \n",
    "3 - Será que o número de sobreviventes meninas foi muito maior que os sobreviventes meninos?\n",
    "    \n",
    "4 - Quem são os passageiros que não tiveram sua tarifa cobrada? Eles sobreviveram?\n",
    "\n",
    "** 5 - Será que o fato de o passageiro ter mais filhos garantiu a sua sobrevivência?**\n",
    "\n",
    "** 6 - A classe em que o passageiro encontrava-se foi um fator decisivo para a sobrevivência?**\n",
    "\n",
    "** 7 - Como você pode explicar o fato de ter mais sobreviventes na classe 3 (mais baixa, longe dos botes) do que na classe 2? **"
   ]
  },
  {
   "cell_type": "code",
   "execution_count": null,
   "metadata": {},
   "outputs": [],
   "source": []
  }
 ],
 "metadata": {
  "kernelspec": {
   "display_name": "Python 3",
   "language": "python",
   "name": "python3"
  },
  "language_info": {
   "codemirror_mode": {
    "name": "ipython",
    "version": 3
   },
   "file_extension": ".py",
   "mimetype": "text/x-python",
   "name": "python",
   "nbconvert_exporter": "python",
   "pygments_lexer": "ipython3",
   "version": "3.5.2"
  },
  "widgets": {
   "state": {},
   "version": "1.1.2"
  }
 },
 "nbformat": 4,
 "nbformat_minor": 2
}
