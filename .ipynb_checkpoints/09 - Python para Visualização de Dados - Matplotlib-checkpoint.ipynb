{
 "cells": [
  {
   "cell_type": "markdown",
   "metadata": {},
   "source": [
    "# Python para visualização de dados - Matplotlib"
   ]
  },
  {
   "cell_type": "markdown",
   "metadata": {},
   "source": [
    "Matplotlib é a biblioteca \"avô\" de visualização de dados com o Python. \n",
    "\n",
    "Foi criada por John Hunter, tentando replicar os recursos de visualização de dados do MatLab (outro ambiente de programação) no Python. \n",
    "\n",
    "É uma excelente biblioteca de gráficos 2D e 3D para gerar figuras científicas.\n",
    "\n",
    "Algumas das vantagens do Matplotlib são:\n",
    "\n",
    "* Geralmente fácil de começar para plotagens simples\n",
    "* Suporte para rótulos e textos personalizados\n",
    "* Saída de alta qualidade em muitos formatos\n",
    "* Muito personalizável em geral\n",
    "\n",
    "Matplotlib permite que você crie figuras reprodutíveis de forma programática. \n",
    "\n",
    "Vamos aprender a usá-lo! \n",
    "\n",
    "Sugiro que você explore a página oficial do Matplotlib: http://matplotlib.org/"
   ]
  },
  {
   "cell_type": "markdown",
   "metadata": {},
   "source": [
    "Importe o módulo `matplotlib.pyplot` com o nome` plt`:"
   ]
  },
  {
   "cell_type": "code",
   "execution_count": null,
   "metadata": {},
   "outputs": [],
   "source": [
    "import matplotlib.pyplot as plt"
   ]
  },
  {
   "cell_type": "markdown",
   "metadata": {},
   "source": [
    "Você também precisará usar essa linha para ver gráficos no notebook:"
   ]
  },
  {
   "cell_type": "code",
   "execution_count": null,
   "metadata": {},
   "outputs": [],
   "source": [
    "%matplotlib inline"
   ]
  },
  {
   "cell_type": "markdown",
   "metadata": {},
   "source": [
    "Essa linha é apenas para notebooks jupyter. Se você estiver usando outro editor use: ** plt.show () ** no final de todos os seus comandos de traçado para que a figura apareça em outra janela."
   ]
  },
  {
   "cell_type": "markdown",
   "metadata": {},
   "source": [
    "### Exemplo\n",
    "\n",
    "Vamos dar uma olhada em um exemplo muito simples usando dois arrays numpy. Você também pode usar listas, mas provavelmente você estará passando matrizes numpy ou colunas de pandas (que essencialmente também se comportam como arrays).\n",
    "\n",
    "** Os dados que queremos plotar: **"
   ]
  },
  {
   "cell_type": "code",
   "execution_count": 9,
   "metadata": {},
   "outputs": [],
   "source": [
    "import numpy as np\n",
    "x = np.linspace(-5, 5, 30)\n",
    "y= x ** 2"
   ]
  },
  {
   "cell_type": "code",
   "execution_count": 10,
   "metadata": {},
   "outputs": [
    {
     "data": {
      "text/plain": [
       "array([-5.        , -4.65517241, -4.31034483, -3.96551724, -3.62068966,\n",
       "       -3.27586207, -2.93103448, -2.5862069 , -2.24137931, -1.89655172,\n",
       "       -1.55172414, -1.20689655, -0.86206897, -0.51724138, -0.17241379,\n",
       "        0.17241379,  0.51724138,  0.86206897,  1.20689655,  1.55172414,\n",
       "        1.89655172,  2.24137931,  2.5862069 ,  2.93103448,  3.27586207,\n",
       "        3.62068966,  3.96551724,  4.31034483,  4.65517241,  5.        ])"
      ]
     },
     "execution_count": 10,
     "metadata": {},
     "output_type": "execute_result"
    }
   ],
   "source": [
    "x"
   ]
  },
  {
   "cell_type": "code",
   "execution_count": 11,
   "metadata": {},
   "outputs": [
    {
     "data": {
      "text/plain": [
       "array([25.        , 21.6706302 , 18.57907253, 15.72532699, 13.10939358,\n",
       "       10.73127229,  8.59096314,  6.68846611,  5.02378121,  3.59690844,\n",
       "        2.4078478 ,  1.45659929,  0.7431629 ,  0.26753864,  0.02972652,\n",
       "        0.02972652,  0.26753864,  0.7431629 ,  1.45659929,  2.4078478 ,\n",
       "        3.59690844,  5.02378121,  6.68846611,  8.59096314, 10.73127229,\n",
       "       13.10939358, 15.72532699, 18.57907253, 21.6706302 , 25.        ])"
      ]
     },
     "execution_count": 11,
     "metadata": {},
     "output_type": "execute_result"
    }
   ],
   "source": [
    "y"
   ]
  },
  {
   "cell_type": "markdown",
   "metadata": {},
   "source": [
    "## Comandos básicos do Matplotlib \n",
    "\n",
    "Podemos criar um gráfico de linha muito simples usando o seguinte:"
   ]
  },
  {
   "cell_type": "code",
   "execution_count": 12,
   "metadata": {},
   "outputs": [
    {
     "data": {
      "text/plain": [
       "Text(0.5,1,'Título')"
      ]
     },
     "execution_count": 12,
     "metadata": {},
     "output_type": "execute_result"
    },
    {
     "data": {
      "image/png": "[encoded data removed]",
      "text/plain": [
       "<Figure size 432x288 with 1 Axes>"
      ]
     },
     "metadata": {},
     "output_type": "display_data"
    }
   ],
   "source": [
    "plt.plot(x, y, 'r') # 'r' é a cor vermelha (red)\n",
    "plt.xlabel('Eixo X')\n",
    "plt.ylabel('Eixo Y')\n",
    "plt.title('Título')\n"
   ]
  },
  {
   "cell_type": "markdown",
   "metadata": {},
   "source": [
    "## Criando Multiplots na mesma tela"
   ]
  },
  {
   "cell_type": "code",
   "execution_count": 16,
   "metadata": {},
   "outputs": [
    {
     "data": {
      "image/png": "[encoded data removed]",
      "text/plain": [
       "<Figure size 432x288 with 2 Axes>"
      ]
     },
     "metadata": {},
     "output_type": "display_data"
    }
   ],
   "source": [
    "# plt.subplot(nlinhas, ncols, numeroplot)\n",
    "plt.subplot(1,2,1)\n",
    "plt.plot(x, y, 'r-.') # Mais nas seções de cores abaixo\n",
    "plt.subplot(1,2,2)\n",
    "plt.plot(y, x, 'g*-');"
   ]
  },
  {
   "cell_type": "markdown",
   "metadata": {},
   "source": [
    "# Matplotlib Object Oriented Method\n",
    "\n",
    "Agora que vimos o básico, vamos acabar com uma introdução mais formal da API orientada a objetos da Matplotlib. \n",
    "\n",
    "Isso significa que vamos instanciar objetos de figuras e depois chamar métodos ou atributos desse objeto."
   ]
  },
  {
   "cell_type": "markdown",
   "metadata": {},
   "source": [
    "## Introdução ao Método Orientado a Objetos"
   ]
  },
  {
   "cell_type": "markdown",
   "metadata": {},
   "source": [
    "A principal idéia ao usar o método Object Oriented mais formal é criar objetos de figura e, em seguida, apenas chamar métodos ou atributos fora desse objeto. Esta abordagem é mais agradável ao lidar com uma tela que possui vários gráficos nela.\n",
    "\n",
    "Para começar, criamos uma figura de instância. Então, podemos adicionar eixos a essa figura:"
   ]
  },
  {
   "cell_type": "code",
   "execution_count": 17,
   "metadata": {},
   "outputs": [
    {
     "data": {
      "text/plain": [
       "Text(0.5,1,'Define o Título')"
      ]
     },
     "execution_count": 17,
     "metadata": {},
     "output_type": "execute_result"
    },
    {
     "data": {
      "image/png": "[encoded data removed]",
      "text/plain": [
       "<Figure size 432x288 with 1 Axes>"
      ]
     },
     "metadata": {},
     "output_type": "display_data"
    }
   ],
   "source": [
    "# Cria uma figura vazia\n",
    "fig = plt.figure()\n",
    "\n",
    "# Adiciona eixos à figura\n",
    "axes = fig.add_axes([0.1, 0.1, 0.8, 0.8]) # esquerda, inferior, largura, altura (faixa de 0 a 1)\n",
    "\n",
    "# Plota nos eixos especificados\n",
    "axes.plot(x, y, 'b')\n",
    "axes.set_xlabel('Define o Label X') # Perceba o uso de \"set_\" para começar métodos\n",
    "axes.set_ylabel('Define o Label Y')\n",
    "axes.set_title('Define o Título')"
   ]
  },
  {
   "cell_type": "markdown",
   "metadata": {},
   "source": [
    "O código é um pouco mais complicado, mas a vantagem é que agora temos o controle total de onde os eixos da parcela são colocados, e podemos facilmente adicionar mais de um eixo à figura:"
   ]
  },
  {
   "cell_type": "markdown",
   "metadata": {},
   "source": [
    "1 - Cria uma figura vazia e define limites"
   ]
  },
  {
   "cell_type": "code",
   "execution_count": 18,
   "metadata": {},
   "outputs": [
    {
     "data": {
      "text/plain": [
       "Text(0.5,1,'Título 2')"
      ]
     },
     "execution_count": 18,
     "metadata": {},
     "output_type": "execute_result"
    },
    {
     "data": {
      "image/png": "[encoded data removed]",
      "text/plain": [
       "<Figure size 432x288 with 2 Axes>"
      ]
     },
     "metadata": {},
     "output_type": "display_data"
    }
   ],
   "source": [
    "fig = plt.figure()\n",
    "\n",
    "axes1 = fig.add_axes([0.1, 0.1, 0.8, 0.8]) # Eixo principal\n",
    "axes2 = fig.add_axes([0.2, 0.5, 0.4, 0.3]) # Eixos inseridos\n",
    "\n",
    "# Trabalhando no eixo maior\n",
    "axes1.plot(x, y, 'b')\n",
    "axes1.set_xlabel('Eixo X1')\n",
    "axes1.set_ylabel('Eixo Y1')\n",
    "axes1.set_title('Título 1')\n",
    "\n",
    "# Trabalhando no eixo menor\n",
    "axes2.plot(y, x, 'r')\n",
    "axes2.set_xlabel('Eixo X2')\n",
    "axes2.set_ylabel('Eixo Y2')\n",
    "axes2.set_title('Título 2')\n"
   ]
  },
  {
   "cell_type": "markdown",
   "metadata": {},
   "source": [
    "## subplots()\n",
    "\n",
    "O objeto plt.subplots () atuará como um gerenciador de eixo mais automático.\n",
    "\n",
    "Uso básico:"
   ]
  },
  {
   "cell_type": "markdown",
   "metadata": {},
   "source": [
    "Use semelhante a plt.figure (), exceto usar o desempacotamento da tupla para \"agarrar\" as figuras e os eixos"
   ]
  },
  {
   "cell_type": "code",
   "execution_count": null,
   "metadata": {},
   "outputs": [],
   "source": [
    "fig, axes = plt.subplots()\n",
    "\n",
    "# Agora use o objeto dos eixos para adicionar coisas ao gráfico\n",
    "axes.plot(x, y, 'r')\n",
    "axes.set_xlabel('x')\n",
    "axes.set_ylabel('y')\n",
    "axes.set_title('Título');"
   ]
  },
  {
   "cell_type": "markdown",
   "metadata": {},
   "source": [
    "Então, você pode especificar o número de linhas e colunas ao criar o objeto subtplot ():"
   ]
  },
  {
   "cell_type": "code",
   "execution_count": null,
   "metadata": {},
   "outputs": [],
   "source": [
    "#Tela vazia de 1 por 2 subplots\n",
    "fig, axes = plt.subplots(nrows=1, ncols=2)"
   ]
  },
  {
   "cell_type": "code",
   "execution_count": null,
   "metadata": {},
   "outputs": [],
   "source": [
    "# Eixos é uma matriz de eixos\n",
    "axes"
   ]
  },
  {
   "cell_type": "markdown",
   "metadata": {},
   "source": [
    "Podemos iterar através desta matriz:"
   ]
  },
  {
   "cell_type": "code",
   "execution_count": null,
   "metadata": {},
   "outputs": [],
   "source": [
    "for ax in axes:\n",
    "    ax.plot(x, y, 'b')\n",
    "    ax.set_xlabel('x')\n",
    "    ax.set_ylabel('y')\n",
    "    ax.set_title('Título')\n",
    "\n",
    "# Mostra o objeto fig\n",
    "fig"
   ]
  },
  {
   "cell_type": "markdown",
   "metadata": {},
   "source": [
    "Um problema comum com matplolib é sobreposição de subplots ou figuras. \n",
    "\n",
    "Nós podemos usar o método ** fig.tight_layout () ** ou ** plt.tight_layout () **, que ajusta automaticamente as posições dos eixos na tela de figuras para que não haja conteúdo sobreposto:"
   ]
  },
  {
   "cell_type": "code",
   "execution_count": null,
   "metadata": {},
   "outputs": [],
   "source": [
    "fig, axes = plt.subplots(nrows=1, ncols=2)\n",
    "\n",
    "for ax in axes:\n",
    "    ax.plot(x, y, 'g')\n",
    "    ax.set_xlabel('x')\n",
    "    ax.set_ylabel('y')\n",
    "    ax.set_title('título')\n",
    "\n",
    "fig    \n",
    "plt.tight_layout()"
   ]
  },
  {
   "cell_type": "markdown",
   "metadata": {},
   "source": [
    "### Tamanho da figura, relação de aspecto e DPI"
   ]
  },
  {
   "cell_type": "markdown",
   "metadata": {},
   "source": [
    "Matplotlib permite que a relação de aspecto, DPI e o tamanho da figura sejam especificados quando o objeto Figura é criado. Você pode usar os argumentos de palavras-chave `figsize` e` dpi`.\n",
    "* `figsize` é uma tupla da largura e altura da figura em polegadas\n",
    "* `dpi` é o ponto por polegada (pixel por polegada).\n",
    "\n",
    "Por exemplo:"
   ]
  },
  {
   "cell_type": "code",
   "execution_count": null,
   "metadata": {},
   "outputs": [],
   "source": [
    "fig = plt.figure(figsize=(8,4), dpi=100)"
   ]
  },
  {
   "cell_type": "markdown",
   "metadata": {},
   "source": [
    "Os mesmos argumentos também podem ser passados para gerenciadores de layout, como a função `subplots ':"
   ]
  },
  {
   "cell_type": "code",
   "execution_count": null,
   "metadata": {},
   "outputs": [],
   "source": [
    "fig, axes = plt.subplots(figsize=(12,3))\n",
    "\n",
    "axes.plot(x, y, 'r')\n",
    "axes.set_xlabel('x')\n",
    "axes.set_ylabel('y')\n",
    "axes.set_title('título');"
   ]
  },
  {
   "cell_type": "markdown",
   "metadata": {},
   "source": [
    "## Salvando figuras\n",
    "A Matplotlib pode gerar saída de alta qualidade em vários formatos, incluindo PNG, JPG, EPS, SVG, PGF e PDF."
   ]
  },
  {
   "cell_type": "markdown",
   "metadata": {},
   "source": [
    "Para salvar uma figura em um arquivo, podemos usar o método `savefig` da classe` Figure`:"
   ]
  },
  {
   "cell_type": "code",
   "execution_count": null,
   "metadata": {},
   "outputs": [],
   "source": [
    "fig.savefig(\"filename.png\")"
   ]
  },
  {
   "cell_type": "markdown",
   "metadata": {},
   "source": [
    "Aqui também podemos opcionalmente especificar o DPI e escolher entre diferentes formatos de saída:"
   ]
  },
  {
   "cell_type": "code",
   "execution_count": null,
   "metadata": {},
   "outputs": [],
   "source": [
    "fig.savefig(\"filename.png\", dpi=200)"
   ]
  },
  {
   "cell_type": "markdown",
   "metadata": {},
   "source": [
    "# Legends, rótulos e títulos"
   ]
  },
  {
   "cell_type": "markdown",
   "metadata": {},
   "source": [
    "Agora que abordamos os conceitos básicos de como criar uma figura de tela e adicionar instâncias de eixos na tela, vejamos como decorar uma figura com títulos, rótulos de eixos e lendas."
   ]
  },
  {
   "cell_type": "markdown",
   "metadata": {},
   "source": [
    "** Títulos de Figura **\n",
    "\n",
    "Um título pode ser adicionado a cada instância do eixo em uma figura. Para definir o título, use o método `set_title` na instância dos eixos:"
   ]
  },
  {
   "cell_type": "code",
   "execution_count": null,
   "metadata": {},
   "outputs": [],
   "source": [
    "ax.set_title(\"title\");"
   ]
  },
  {
   "cell_type": "markdown",
   "metadata": {},
   "source": [
    "** Etiquetas de eixo **\n",
    "\n",
    "Da mesma forma, com os métodos `set_xlabel` e` set_ylabel`, podemos definir as etiquetas dos eixos X e Y:"
   ]
  },
  {
   "cell_type": "code",
   "execution_count": null,
   "metadata": {},
   "outputs": [],
   "source": [
    "ax.set_xlabel(\"x\")\n",
    "ax.set_ylabel(\"y\");"
   ]
  },
  {
   "cell_type": "markdown",
   "metadata": {},
   "source": [
    "### Legendas"
   ]
  },
  {
   "cell_type": "markdown",
   "metadata": {},
   "source": [
    "Você pode usar o argumento ** label = \"label text\" ** quando parcelas ou outros objetos são adicionados à figura e, em seguida, usando o método ** legend ** sem argumentos para adicionar a legenda à figura:"
   ]
  },
  {
   "cell_type": "code",
   "execution_count": null,
   "metadata": {},
   "outputs": [],
   "source": [
    "fig = plt.figure()\n",
    "\n",
    "ax = fig.add_axes([0,0,1,1])\n",
    "\n",
    "ax.plot(x, x**2, label=\"x**2\")\n",
    "ax.plot(x, x**3, label=\"x**3\")\n",
    "ax.legend()"
   ]
  },
  {
   "cell_type": "markdown",
   "metadata": {},
   "source": [
    "Observe como a legenda se sobrepõe a algumas das plotagens atuais!\n",
    "\n",
    "A função ** legend ** utiliza o argumento ** loc ** que pode ser usado para especificar onde na figura a legenda deve ser desenhada. \n",
    "\n",
    "Os valores permitidos de ** loc ** são códigos numéricos para os vários locais em que a lenda pode ser desenhada. Veja a [página de documentação](http://matplotlib.org/users/legend_guide.html#legend-location) para obter detalhes.\n",
    "\n",
    "Alguns dos valores mais comuns ** loc ** são:"
   ]
  },
  {
   "cell_type": "code",
   "execution_count": null,
   "metadata": {},
   "outputs": [],
   "source": [
    "# Muitas opções....\n",
    "\n",
    "ax.legend(loc=1) # Canto superior direito\n",
    "ax.legend(loc=2) # Canto superior esquerdo\n",
    "ax.legend(loc=3) # Canto inferior esquerdo\n",
    "ax.legend(loc=4) # Canto inferior direito\n",
    "\n",
    "# .. muitas outras opções estão disponíveis\n",
    "\n",
    "# Mais comum para escolher\n",
    "ax.legend(loc=0) # deixe matplotlib decidir a localização ideal\n",
    "fig"
   ]
  },
  {
   "cell_type": "markdown",
   "metadata": {},
   "source": [
    "## Configuração de cores, linhas de largura de linha, tipos de linha\n",
    "\n",
    "Matplotlib oferece-lhe * muitas * opções para personalizar cores, largura de linha e tipos de linha."
   ]
  },
  {
   "cell_type": "markdown",
   "metadata": {},
   "source": [
    "### Cores com sintaxe semelhante ao MatLab  "
   ]
  },
  {
   "cell_type": "markdown",
   "metadata": {},
   "source": [
    "Com matplotlib, podemos definir as cores das linhas e outros elementos gráficos de várias maneiras. Em primeiro lugar, podemos usar a sintaxe do tipo MATLAB onde `'b'` significa azul,`'g'` significa verde, etc. A API MATLAB para seleção de estilos de linha também é suportada: onde, por exemplo,' b. - \"significa uma linha azul com pontos:"
   ]
  },
  {
   "cell_type": "code",
   "execution_count": null,
   "metadata": {},
   "outputs": [],
   "source": [
    "# Cor e estilo da linha como MATLAB\n",
    "fig, ax = plt.subplots()\n",
    "ax.plot(x, x**2, 'b.-') # linha azul tracejada\n",
    "ax.plot(x, x**3, 'g--') # linha verde pontilhada"
   ]
  },
  {
   "cell_type": "markdown",
   "metadata": {},
   "source": [
    "### Cores com a cor = parâmetro"
   ]
  },
  {
   "cell_type": "markdown",
   "metadata": {},
   "source": [
    "Nós também podemos definir cores por seus nomes ou códigos hexadecimais RGB e, opcionalmente, fornecer um valor alfa usando os argumentos de palavra \"cor\" e \"alfa\". Alpha indica opacidade."
   ]
  },
  {
   "cell_type": "code",
   "execution_count": null,
   "metadata": {},
   "outputs": [],
   "source": [
    "fig, ax = plt.subplots()\n",
    "\n",
    "ax.plot(x, x+1, color=\"blue\", alpha=0.5) # meio-transparente\n",
    "ax.plot(x, x+2, color=\"#8B008B\")        # RGB\n",
    "ax.plot(x, x+3, color=\"#FF8C00\")        # RGB"
   ]
  },
  {
   "cell_type": "markdown",
   "metadata": {},
   "source": [
    "### Linha e estilos de marcadores"
   ]
  },
  {
   "cell_type": "markdown",
   "metadata": {},
   "source": [
    "Para alterar a largura da linha, podemos usar o argumento de palavras-chave `linewidth` ou` lw`. O estilo de linha pode ser selecionado usando os argumentos de palavras-chave `linestyle` ou` ls`:"
   ]
  },
  {
   "cell_type": "code",
   "execution_count": null,
   "metadata": {},
   "outputs": [],
   "source": [
    "fig, ax = plt.subplots(figsize=(12,6))\n",
    "\n",
    "ax.plot(x, x+1, color=\"red\", linewidth=0.25)\n",
    "ax.plot(x, x+2, color=\"red\", linewidth=0.50)\n",
    "ax.plot(x, x+3, color=\"red\", linewidth=1.00)\n",
    "ax.plot(x, x+4, color=\"red\", linewidth=2.00)\n",
    "\n",
    "# Possiveis estilos de linha: ‘-‘, ‘–’, ‘-.’, ‘:’, ‘steps’\n",
    "ax.plot(x, x+5, color=\"green\", lw=3, linestyle='-')\n",
    "ax.plot(x, x+6, color=\"green\", lw=3, ls='-.')\n",
    "ax.plot(x, x+7, color=\"green\", lw=3, ls=':')\n",
    "\n",
    "# Traços estilizados\n",
    "line, = ax.plot(x, x+8, color=\"black\", lw=1.50)\n",
    "line.set_dashes([5, 10, 15, 10]) # Formato: comprimento da linha, comprimento do espaço, ...\n",
    "\n",
    "# possíveis símbolos de marcador: marcador = '+', 'o', '*', 's', ',', '.', '1', '2', '3', '4', ...\n",
    "ax.plot(x, x+ 9, color=\"blue\", lw=3, ls='-', marker='+')\n",
    "ax.plot(x, x+10, color=\"blue\", lw=3, ls='--', marker='o')\n",
    "ax.plot(x, x+11, color=\"blue\", lw=3, ls='-', marker='s')\n",
    "ax.plot(x, x+12, color=\"blue\", lw=3, ls='--', marker='1')\n",
    "\n",
    "# tamanho e cor do marcador\n",
    "ax.plot(x, x+13, color=\"purple\", lw=1, ls='-', marker='o', markersize=2)\n",
    "ax.plot(x, x+14, color=\"purple\", lw=1, ls='-', marker='o', markersize=4)\n",
    "ax.plot(x, x+15, color=\"purple\", lw=1, ls='-', marker='o', markersize=8, markerfacecolor=\"red\")\n",
    "ax.plot(x, x+16, color=\"purple\", lw=1, ls='-', marker='s', markersize=8, \n",
    "        markerfacecolor=\"yellow\", markeredgewidth=3, markeredgecolor=\"green\");"
   ]
  },
  {
   "cell_type": "markdown",
   "metadata": {},
   "source": [
    "### Controle sobre a aparência do eixo"
   ]
  },
  {
   "cell_type": "markdown",
   "metadata": {},
   "source": [
    "Nesta seção, analisaremos o controle de propriedades de dimensionamento do eixo em uma figura matplotlib."
   ]
  },
  {
   "cell_type": "markdown",
   "metadata": {},
   "source": [
    "## Intervalo de distância"
   ]
  },
  {
   "cell_type": "markdown",
   "metadata": {},
   "source": [
    "Podemos configurar os intervalos dos eixos usando os métodos `set_ylim` e` set_xlim` no objeto do eixo, ou `axis ('tight')` para obter automaticamente faixas de eixos \"bem ajustados\":"
   ]
  },
  {
   "cell_type": "code",
   "execution_count": null,
   "metadata": {},
   "outputs": [],
   "source": [
    "fig, axes = plt.subplots(1, 3, figsize=(12, 4))\n",
    "\n",
    "axes[0].plot(x, x**2, x, x**3)\n",
    "axes[0].set_title(\"intervalos de eixos padrão\")\n",
    "\n",
    "axes[1].plot(x, x**2, x, x**3)\n",
    "axes[1].axis('tight')\n",
    "axes[1].set_title(\"eixos apertados\")\n",
    "\n",
    "axes[2].plot(x, x**2, x, x**3)\n",
    "axes[2].set_ylim([0, 60])\n",
    "axes[2].set_xlim([2, 5])\n",
    "axes[2].set_title(\"distância personalizada dos eixos\");"
   ]
  },
  {
   "cell_type": "markdown",
   "metadata": {},
   "source": [
    "# Tipos de plots especiais\n",
    "\n",
    "Existem muitas plots especiais que podemos criar, como, por exemplo, barras, histogramas, gráficos de dispersão e muito mais. \n",
    "\n",
    "A maioria desses tipos de plots, na verdade, criaremos usando Seaborn, uma biblioteca de plotagem estatística para o Python. Mas aqui estão alguns exemplos desse tipo de gráficos:"
   ]
  },
  {
   "cell_type": "code",
   "execution_count": null,
   "metadata": {},
   "outputs": [],
   "source": [
    "plt.scatter(x,y)"
   ]
  },
  {
   "cell_type": "code",
   "execution_count": null,
   "metadata": {},
   "outputs": [],
   "source": [
    "from random import sample\n",
    "data = sample(range(1, 1000), 100)\n",
    "plt.hist(data)"
   ]
  },
  {
   "cell_type": "code",
   "execution_count": null,
   "metadata": {},
   "outputs": [],
   "source": [
    "data = [np.random.normal(0, std, 100) for std in range(1, 4)]\n",
    "\n",
    "# box plot retangular\n",
    "plt.boxplot(data,vert=True,patch_artist=True);   "
   ]
  },
  {
   "cell_type": "markdown",
   "metadata": {},
   "source": [
    "## Referências para Matplotlib"
   ]
  },
  {
   "cell_type": "markdown",
   "metadata": {},
   "source": [
    "* http://www.matplotlib.org - A página web do projeto matplotlib.\n",
    "* https://github.com/matplotlib/matplotlib - O código fonte de matplotlib.\n",
    "* http://matplotlib.org/gallery.html - Uma grande galeria mostrando diversos tipos de gráficos que Matplotlib pode criar. Altamente recomendado!\n",
    "* http://www.loria.fr/~rougier/teaching/matplotlib - Um excelente tutorial sobre a biblioteca.\n",
    "* http://scipy-lectures.github.io/matplotlib/matplotlib.html -  Outra excelente referência no asssunto.\n"
   ]
  }
 ],
 "metadata": {
  "kernelspec": {
   "display_name": "Python 3",
   "language": "python",
   "name": "python3"
  },
  "language_info": {
   "codemirror_mode": {
    "name": "ipython",
    "version": 3
   },
   "file_extension": ".py",
   "mimetype": "text/x-python",
   "name": "python",
   "nbconvert_exporter": "python",
   "pygments_lexer": "ipython3",
   "version": "3.5.2"
  },
  "widgets": {
   "state": {},
   "version": "1.1.2"
  }
 },
 "nbformat": 4,
 "nbformat_minor": 1
}
