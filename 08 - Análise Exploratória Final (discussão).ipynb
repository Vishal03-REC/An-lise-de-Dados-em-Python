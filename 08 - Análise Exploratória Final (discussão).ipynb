{
 "cells": [
  {
   "cell_type": "markdown",
   "metadata": {},
   "source": [
    "### Análise Exploratória do Titanic"
   ]
  },
  {
   "cell_type": "markdown",
   "metadata": {},
   "source": [
    "1 - Quantas pessoas sobreviveram ao desastre, segundo este dataset? Quantas não sobreviveram? (Avalie em relação ao sexo, à quantidade de filhos, à idade, à classe, etc...)\n",
    "    \n",
    "2 - Qual foi a proporção de homens e mulheres que sobreviveram a tragédia?\n",
    "    \n",
    "3 - Será que o número de sobreviventes meninas foi muito maior que os sobreviventes meninos?\n",
    "    \n",
    "4 - Quem são os passageiros que não tiveram sua tarifa cobrada? Eles sobreviveram?\n",
    "\n",
    "** 5 - Será que o fato de o passageiro ter mais filhos garantiu a sua sobrevivência?**\n",
    "\n",
    "** 6 - A classe em que o passageiro encontrava-se foi um fator decisivo para a sobrevivência?**"
   ]
  },
  {
   "cell_type": "code",
   "execution_count": 1,
   "metadata": {},
   "outputs": [],
   "source": [
    "import matplotlib.pyplot as plt\n",
    "import pandas as pd"
   ]
  },
  {
   "cell_type": "code",
   "execution_count": 2,
   "metadata": {},
   "outputs": [],
   "source": [
    "titanic=pd.read_csv('titanic.csv')"
   ]
  },
  {
   "cell_type": "code",
   "execution_count": 3,
   "metadata": {},
   "outputs": [],
   "source": [
    "titanic.columns = ['ID_Passageiro', 'Sobreviveu?', 'Classe', 'Nome', 'Sexo', 'Idade', 'Filhos',\n",
    "       'Pais', 'Ticket', 'Valor Pago', 'Cabine', 'Embarcado em']\n",
    "\n",
    "titanic['Sexo'].replace('female','feminino',inplace=True)\n",
    "titanic['Sexo'].replace('male','masculino',inplace=True)"
   ]
  },
  {
   "cell_type": "code",
   "execution_count": 4,
   "metadata": {},
   "outputs": [
    {
     "data": {
      "text/plain": [
       "0    Mr\n",
       "Name: Titulo, dtype: object"
      ]
     },
     "execution_count": 4,
     "metadata": {},
     "output_type": "execute_result"
    }
   ],
   "source": [
    "title = titanic['Nome'].str.split(',')\n",
    "\n",
    "title = [title[1].strip().split('.')[0] for title in\n",
    "                        titanic['Nome'].str.split(',')]\n",
    "\n",
    "titanic['Titulo']=title\n",
    "titanic['Titulo'].head(1)\n",
    "\n"
   ]
  },
  {
   "cell_type": "code",
   "execution_count": 5,
   "metadata": {},
   "outputs": [],
   "source": [
    "#Media da idade por titulo\n",
    "AgebyTitle = titanic['Idade'].groupby(titanic['Titulo']).mean().reset_index()\n"
   ]
  },
  {
   "cell_type": "code",
   "execution_count": 6,
   "metadata": {},
   "outputs": [],
   "source": [
    "#inclui coluna de idade por titulo\n",
    "titanic = pd.merge(titanic,AgebyTitle,on='Titulo')\n",
    "#titanic"
   ]
  },
  {
   "cell_type": "code",
   "execution_count": 7,
   "metadata": {},
   "outputs": [
    {
     "data": {
      "text/html": [
       "<div>\n",
       "<style scoped>\n",
       "    .dataframe tbody tr th:only-of-type {\n",
       "        vertical-align: middle;\n",
       "    }\n",
       "\n",
       "    .dataframe tbody tr th {\n",
       "        vertical-align: top;\n",
       "    }\n",
       "\n",
       "    .dataframe thead th {\n",
       "        text-align: right;\n",
       "    }\n",
       "</style>\n",
       "<table border=\"1\" class=\"dataframe\">\n",
       "  <thead>\n",
       "    <tr style=\"text-align: right;\">\n",
       "      <th></th>\n",
       "      <th>ID_Passageiro</th>\n",
       "      <th>Sobreviveu?</th>\n",
       "      <th>Classe</th>\n",
       "      <th>Nome</th>\n",
       "      <th>Sexo</th>\n",
       "      <th>Idade_x</th>\n",
       "      <th>Filhos</th>\n",
       "      <th>Pais</th>\n",
       "      <th>Ticket</th>\n",
       "      <th>Valor Pago</th>\n",
       "      <th>Cabine</th>\n",
       "      <th>Embarcado em</th>\n",
       "      <th>Titulo</th>\n",
       "      <th>Idade_y</th>\n",
       "    </tr>\n",
       "  </thead>\n",
       "  <tbody>\n",
       "    <tr>\n",
       "      <th>0</th>\n",
       "      <td>1</td>\n",
       "      <td>0</td>\n",
       "      <td>3</td>\n",
       "      <td>Braund, Mr. Owen Harris</td>\n",
       "      <td>masculino</td>\n",
       "      <td>22.0</td>\n",
       "      <td>1</td>\n",
       "      <td>0</td>\n",
       "      <td>A/5 21171</td>\n",
       "      <td>7.25</td>\n",
       "      <td>NaN</td>\n",
       "      <td>S</td>\n",
       "      <td>Mr</td>\n",
       "      <td>32.36809</td>\n",
       "    </tr>\n",
       "  </tbody>\n",
       "</table>\n",
       "</div>"
      ],
      "text/plain": [
       "   ID_Passageiro  Sobreviveu?  Classe                     Nome       Sexo  \\\n",
       "0              1            0       3  Braund, Mr. Owen Harris  masculino   \n",
       "\n",
       "   Idade_x  Filhos  Pais     Ticket  Valor Pago Cabine Embarcado em Titulo  \\\n",
       "0     22.0       1     0  A/5 21171        7.25    NaN            S     Mr   \n",
       "\n",
       "    Idade_y  \n",
       "0  32.36809  "
      ]
     },
     "execution_count": 7,
     "metadata": {},
     "output_type": "execute_result"
    }
   ],
   "source": [
    "#Substituir idades faltantes\n",
    "titanic['Idade_x'].fillna(titanic['Idade_y'],inplace=True)\n",
    "titanic.head(1)"
   ]
  },
  {
   "cell_type": "code",
   "execution_count": 8,
   "metadata": {},
   "outputs": [
    {
     "data": {
      "text/plain": [
       "(array([ 58.,  46., 213., 169., 254.,  71.,  45.,  24.,   9.,   2.]),\n",
       " array([ 0.42 ,  8.378, 16.336, 24.294, 32.252, 40.21 , 48.168, 56.126,\n",
       "        64.084, 72.042, 80.   ]),\n",
       " <a list of 10 Patch objects>)"
      ]
     },
     "execution_count": 8,
     "metadata": {},
     "output_type": "execute_result"
    },
    {
     "data": {
      "image/png": "[encoded data removed]",
      "text/plain": [
       "<Figure size 432x288 with 1 Axes>"
      ]
     },
     "metadata": {},
     "output_type": "display_data"
    }
   ],
   "source": [
    "idades = titanic['Idade_x']\n",
    "plt.hist(titanic['Idade_x'],bins=10)"
   ]
  },
  {
   "cell_type": "code",
   "execution_count": 9,
   "metadata": {},
   "outputs": [
    {
     "data": {
      "text/plain": [
       "masculino    52\n",
       "feminino     50\n",
       "Name: Sexo, dtype: int64"
      ]
     },
     "execution_count": 9,
     "metadata": {},
     "output_type": "execute_result"
    }
   ],
   "source": [
    "passageiros_por_idade = titanic[(titanic['Idade_x']>=35) & (titanic['Idade_x']<=40)]\n",
    "passageiros_por_idade['Sexo'].value_counts()"
   ]
  },
  {
   "cell_type": "code",
   "execution_count": 10,
   "metadata": {},
   "outputs": [],
   "source": [
    "mulheres_por_idade = passageiros_por_idade[passageiros_por_idade['Sexo']=='feminino']\n"
   ]
  },
  {
   "cell_type": "code",
   "execution_count": 11,
   "metadata": {},
   "outputs": [
    {
     "data": {
      "text/plain": [
       "Sexo\n",
       "feminino     50\n",
       "masculino    52\n",
       "Name: ID_Passageiro, dtype: int64"
      ]
     },
     "execution_count": 11,
     "metadata": {},
     "output_type": "execute_result"
    }
   ],
   "source": [
    "por_idade_por_sexo = passageiros_por_idade['ID_Passageiro'].groupby(passageiros_por_idade['Sexo']).count()\n",
    "por_idade_por_sexo"
   ]
  },
  {
   "cell_type": "code",
   "execution_count": 20,
   "metadata": {},
   "outputs": [
    {
     "data": {
      "text/plain": [
       "Index(['ID_Passageiro', 'Sobreviveu?', 'Classe', 'Nome', 'Sexo', 'Idade_x',\n",
       "       'Filhos', 'Pais', 'Ticket', 'Valor Pago', 'Embarcado em', 'Titulo'],\n",
       "      dtype='object')"
      ]
     },
     "execution_count": 20,
     "metadata": {},
     "output_type": "execute_result"
    }
   ],
   "source": [
    "#titanic.drop(columns=['Idade_y'],inplace=True)\n",
    "\n",
    "titanic.drop(['Cabine'],axis=1,inplace=True)\n",
    "titanic.columns"
   ]
  },
  {
   "cell_type": "code",
   "execution_count": null,
   "metadata": {},
   "outputs": [],
   "source": [
    "#passageiros a bordo\n",
    "passageiros_a_bordo=titanic['ID_Passageiro'].groupby(titanic['Sexo']).count()\n",
    "passageiros_a_bordo"
   ]
  },
  {
   "cell_type": "code",
   "execution_count": null,
   "metadata": {},
   "outputs": [],
   "source": [
    "#sobreviventes\n",
    "sobreviventes = titanic[titanic['Sobreviveu?']==1]"
   ]
  },
  {
   "cell_type": "code",
   "execution_count": null,
   "metadata": {},
   "outputs": [],
   "source": [
    "#faixa etária dos sobreviventes\n",
    "plt.hist(sobreviventes['Idade_x'],bins=10)"
   ]
  },
  {
   "cell_type": "markdown",
   "metadata": {},
   "source": [
    "## Contagem de sobreviventes"
   ]
  },
  {
   "cell_type": "markdown",
   "metadata": {},
   "source": [
    "sobreviventesporCRITERIO = sobreviventes['ID_Passageiro'].groupby(sobreviventes['CRITERIO']).count()"
   ]
  },
  {
   "cell_type": "code",
   "execution_count": null,
   "metadata": {},
   "outputs": [],
   "source": [
    "sobreviventesporclasse = sobreviventes['ID_Passageiro'].groupby(sobreviventes['Classe']).count()\n",
    "sobreviventesporclasse"
   ]
  },
  {
   "cell_type": "code",
   "execution_count": null,
   "metadata": {},
   "outputs": [],
   "source": [
    "passageirosporclasse = titanic['ID_Passageiro'].groupby(titanic['Classe']).count()\n",
    "passageirosporclasse"
   ]
  },
  {
   "cell_type": "code",
   "execution_count": null,
   "metadata": {},
   "outputs": [],
   "source": [
    "proporcao_por_classe=sobreviventesporclasse/passageirosporclasse\n",
    "proporcao_por_classe"
   ]
  },
  {
   "cell_type": "code",
   "execution_count": null,
   "metadata": {},
   "outputs": [],
   "source": [
    "#análise de prioridade\n",
    "# mulheres e crianças primeiro"
   ]
  },
  {
   "cell_type": "code",
   "execution_count": 10,
   "metadata": {},
   "outputs": [
    {
     "data": {
      "text/plain": [
       "(358, 14)"
      ]
     },
     "execution_count": 10,
     "metadata": {},
     "output_type": "execute_result"
    }
   ],
   "source": [
    "prioritarios = (titanic['Idade_x'] <=15) & (titanic['Idade_x']>0) | (titanic['Sexo']=='feminino')\n",
    "prioritarios=titanic[prioritarios]\n",
    "prioritarios.shape"
   ]
  },
  {
   "cell_type": "code",
   "execution_count": 11,
   "metadata": {},
   "outputs": [
    {
     "data": {
      "text/plain": [
       "Sexo\n",
       "feminino     43\n",
       "masculino    44\n",
       "Name: ID_Passageiro, dtype: int64"
      ]
     },
     "execution_count": 11,
     "metadata": {},
     "output_type": "execute_result"
    }
   ],
   "source": [
    "#dos prioritarios, quantos sao criancas por sexo\n",
    "\n",
    "prioritarioscriancas = prioritarios[(prioritarios['Idade_x']<=15)& (prioritarios['Idade_x']>0)]\n",
    "prioritarioscriancas = prioritarioscriancas['ID_Passageiro'].groupby(prioritarioscriancas['Sexo']).count()\n",
    "prioritarioscriancas"
   ]
  },
  {
   "cell_type": "code",
   "execution_count": 12,
   "metadata": {},
   "outputs": [
    {
     "data": {
      "text/plain": [
       "Sobreviveu?\n",
       "0     66\n",
       "1    205\n",
       "Name: ID_Passageiro, dtype: int64"
      ]
     },
     "execution_count": 12,
     "metadata": {},
     "output_type": "execute_result"
    }
   ],
   "source": [
    "prioritariosmulheres = prioritarios[(prioritarios['Sexo']=='feminino') & (prioritarios['Idade_x']>15)]\n",
    "mulheres_priori_sobrevive=prioritariosmulheres['ID_Passageiro'].groupby(prioritariosmulheres['Sobreviveu?']).count()\n",
    "mulheres_priori_sobrevive"
   ]
  },
  {
   "cell_type": "code",
   "execution_count": 14,
   "metadata": {},
   "outputs": [
    {
     "data": {
      "text/plain": [
       "87"
      ]
     },
     "execution_count": 14,
     "metadata": {},
     "output_type": "execute_result"
    }
   ],
   "source": [
    "criancas = (titanic['Idade_x'] <= 15) & (titanic['Idade_x'] >0)\n",
    "criancas = titanic[criancas]\n",
    "criancas['ID_Passageiro'].count()"
   ]
  },
  {
   "cell_type": "code",
   "execution_count": 15,
   "metadata": {},
   "outputs": [
    {
     "data": {
      "text/plain": [
       "Sexo\n",
       "feminino     43\n",
       "masculino    44\n",
       "Name: ID_Passageiro, dtype: int64"
      ]
     },
     "execution_count": 15,
     "metadata": {},
     "output_type": "execute_result"
    }
   ],
   "source": [
    "criancasporsexo = criancas['ID_Passageiro'].groupby(criancas['Sexo']).count()\n",
    "criancasporsexo"
   ]
  },
  {
   "cell_type": "code",
   "execution_count": 16,
   "metadata": {},
   "outputs": [
    {
     "data": {
      "text/plain": [
       "Sexo       Sobreviveu?\n",
       "feminino   0              15\n",
       "           1              28\n",
       "masculino  0              21\n",
       "           1              23\n",
       "Name: ID_Passageiro, dtype: int64"
      ]
     },
     "execution_count": 16,
     "metadata": {},
     "output_type": "execute_result"
    }
   ],
   "source": [
    "criancassobreviventes=criancas[criancas['Sobreviveu?']==1]['ID_Passageiro'].count()\n",
    "#criancassobreviventesporsexo\n",
    "sobrevivencia_criancas = criancas['ID_Passageiro'].groupby([criancas['Sexo'],criancas['Sobreviveu?']]).count()\n",
    "sobrevivencia_criancas"
   ]
  },
  {
   "cell_type": "code",
   "execution_count": null,
   "metadata": {},
   "outputs": [],
   "source": [
    "porfilhos = titanic['ID_Passageiro'].groupby(titanic['Filhos']).count()\n",
    "porfilhos"
   ]
  },
  {
   "cell_type": "code",
   "execution_count": null,
   "metadata": {},
   "outputs": [],
   "source": [
    "sobreviventesporfilhos = sobreviventes['ID_Passageiro'].groupby(sobreviventes['Filhos']).count()\n",
    "sobreviventesporfilhos"
   ]
  },
  {
   "cell_type": "code",
   "execution_count": null,
   "metadata": {},
   "outputs": [],
   "source": [
    "sobreviventesporsexo = sobreviventes['ID_Passageiro'].groupby(sobreviventes['Sexo']).count()\n",
    "sobreviventesporsexo"
   ]
  },
  {
   "cell_type": "code",
   "execution_count": null,
   "metadata": {},
   "outputs": [],
   "source": [
    "sobreviventesporsexo2 = titanic['ID_Passageiro'].groupby([titanic['Filhos'],titanic['Sobreviveu?']]).count()\n",
    "sobreviventesporsexo2"
   ]
  },
  {
   "cell_type": "code",
   "execution_count": null,
   "metadata": {},
   "outputs": [],
   "source": [
    "titanic.drop(columns=['Ticket','Cabine'])"
   ]
  },
  {
   "cell_type": "code",
   "execution_count": null,
   "metadata": {},
   "outputs": [],
   "source": [
    "titanic.drop(['Cabine','Ticket'],axis=1)"
   ]
  },
  {
   "cell_type": "code",
   "execution_count": null,
   "metadata": {},
   "outputs": [],
   "source": [
    "porsexo_porclasse = titanic['ID_Passageiro'].groupby([titanic['Sexo'],titanic['Classe']]).count()\n",
    "porsexo_porclasse"
   ]
  },
  {
   "cell_type": "code",
   "execution_count": null,
   "metadata": {},
   "outputs": [],
   "source": [
    "sobreviventes = titanic[titanic['Sobreviveu?']==1]\n",
    "sobreviventes_porsexo = sobreviventes['ID_Passageiro'].groupby(sobreviventes['Sexo']).count()\n",
    "titanic_porsexo = titanic['ID_Passageiro'].groupby(titanic['Sexo']).count()"
   ]
  }
 ],
 "metadata": {
  "kernelspec": {
   "display_name": "Python 3",
   "language": "python",
   "name": "python3"
  },
  "language_info": {
   "codemirror_mode": {
    "name": "ipython",
    "version": 3
   },
   "file_extension": ".py",
   "mimetype": "text/x-python",
   "name": "python",
   "nbconvert_exporter": "python",
   "pygments_lexer": "ipython3",
   "version": "3.5.2"
  },
  "widgets": {
   "state": {},
   "version": "1.1.2"
  }
 },
 "nbformat": 4,
 "nbformat_minor": 2
}
