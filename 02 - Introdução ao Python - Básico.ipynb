{
 "cells": [
  {
   "cell_type": "markdown",
   "metadata": {},
   "source": [
    "## INTRODUÇÃO AO PYTHON\n",
    "\n",
    "Neste tutorial serão apresentados conceitos básicos da linguagem de programação Python.\n",
    "\n",
    "Se você não é um iniciante, pode pular para a seção Exercícios, no final deste tutorial.\n",
    "\n",
    "Para os iniciantes principalmente, boa leitura e estou à disposição (katiakelvis@gmail.com ou venha tomar um cafezinho com biscoitos na minha sala)\n",
    "\n",
    "Orientações para uso do tutorial: leia o texto explicativo e execute os códigos, observando os resultados.\n",
    "\n",
    "Para executar os códigos, clique com o mouse sobre a célula com inscrição \"In\" e no menu superior pressione o botão \"Run\" no menu superior ou pressione SHIFT ENTER\n",
    "\n",
    "Divirta-se e apaixone-se!!!!"
   ]
  },
  {
   "cell_type": "markdown",
   "metadata": {},
   "source": [
    "## Variáveis\n",
    "\n",
    "Variáveis são os espaços de memória criados para você manipular e armazenar dados. \n",
    "\n",
    "Toda variável possui um nome, que a identifica, e um tipo, que é o tipo do dado que ela armazena.\n",
    "\n",
    "Para usar uma variável basta escolher uma letra ou palavra e atribuir um valor a ela com o sinal de \"=\" (comando de atribuição)"
   ]
  },
  {
   "cell_type": "code",
   "execution_count": 1,
   "metadata": {},
   "outputs": [
    {
     "data": {
      "text/plain": [
       "38"
      ]
     },
     "execution_count": 1,
     "metadata": {},
     "output_type": "execute_result"
    }
   ],
   "source": [
    "idade = 38\n",
    "idade"
   ]
  },
  {
   "cell_type": "markdown",
   "metadata": {},
   "source": [
    "Basicamente, existem 3 tipos de variáveis principais: \n",
    "    (i) aquelas que contém valores inteiros - **_Int_**, \n",
    "    (ii) aquelas que contém valores reais ou ponto flutuante - **_Float_** e \n",
    "    (iii) aquelas que contém valores alfanuméricos ou nomes **_String_**:\n",
    "    \n",
    "Vejamos alguns exemplos:"
   ]
  },
  {
   "cell_type": "code",
   "execution_count": null,
   "metadata": {},
   "outputs": [],
   "source": [
    "x = 8\n",
    "x"
   ]
  },
  {
   "cell_type": "markdown",
   "metadata": {},
   "source": [
    "Neste caso, a variável x armazena um valor inteiro.\n",
    "Para saber o tipo da variável, utilizamos a função \"type\":"
   ]
  },
  {
   "cell_type": "code",
   "execution_count": null,
   "metadata": {},
   "outputs": [],
   "source": [
    "type(x)"
   ]
  },
  {
   "cell_type": "markdown",
   "metadata": {},
   "source": [
    "Para armazenar um valor string, devemos informar entre aspas (\")"
   ]
  },
  {
   "cell_type": "code",
   "execution_count": null,
   "metadata": {},
   "outputs": [],
   "source": [
    "y = \"Rumo à formatura. Falta pouco!\"\n",
    "y"
   ]
  },
  {
   "cell_type": "code",
   "execution_count": null,
   "metadata": {},
   "outputs": [],
   "source": [
    "type(y)"
   ]
  },
  {
   "cell_type": "markdown",
   "metadata": {},
   "source": [
    "Agora, um valor decimal:"
   ]
  },
  {
   "cell_type": "code",
   "execution_count": null,
   "metadata": {},
   "outputs": [],
   "source": [
    "z = 8.9\n",
    "z"
   ]
  },
  {
   "cell_type": "code",
   "execution_count": null,
   "metadata": {},
   "outputs": [],
   "source": [
    "type(z)"
   ]
  },
  {
   "cell_type": "markdown",
   "metadata": {},
   "source": [
    "Além de se poder atribuir valor a uma variável do modo já apresentado, que é o modo direto, o valor de uma variável pode ser atribuído pelo usuário, via teclado.\n",
    "\n",
    "Para isso, precisamos da função \"input()\":\n",
    "\n",
    "**_OBS: Ao executar o código abaixo, será aberta uma linha de interação com o usuário. Digite o valor desejado e pressione ENTER para continuar!_**"
   ]
  },
  {
   "cell_type": "code",
   "execution_count": null,
   "metadata": {},
   "outputs": [],
   "source": [
    "x = input(\"Entre com um dado: \")\n",
    "x"
   ]
  },
  {
   "cell_type": "code",
   "execution_count": null,
   "metadata": {},
   "outputs": [],
   "source": [
    "type(x)"
   ]
  },
  {
   "cell_type": "markdown",
   "metadata": {},
   "source": [
    "OPA!!!! Mas o valor foi \"lido\" como string. \n",
    "\n",
    "Isso porque quando se insere algum valor a alguma variável, o Python entende automaticamente esse valor como texto (veio até entre aspas) e cria a nova variável String. \n",
    "\n",
    "E agora?\n",
    "\n",
    "Para altera-lá para outro tipo (por exemplo, Int) fazemos igual ao codigo a seguir:"
   ]
  },
  {
   "cell_type": "code",
   "execution_count": null,
   "metadata": {},
   "outputs": [],
   "source": [
    "x = int(input(\"Entre com um dado: \"))\n",
    "print(type(x))\n",
    "print(x)"
   ]
  },
  {
   "cell_type": "markdown",
   "metadata": {},
   "source": [
    "Observe que antes da função \"input\", foi colocado o tipo (int) que deve ser considerado para o dado lido."
   ]
  },
  {
   "cell_type": "markdown",
   "metadata": {},
   "source": [
    "A linguagem Python é case-sensitive, ou seja, dependendo da forma que a variável é declarada, ela é interpretada de forma diferente ou nao é entendida pela linguagem:\n"
   ]
  },
  {
   "cell_type": "code",
   "execution_count": null,
   "metadata": {},
   "outputs": [],
   "source": [
    "Abelha = \"Maiúsculo\"\n",
    "abelha"
   ]
  },
  {
   "cell_type": "markdown",
   "metadata": {},
   "source": [
    "Ou seja, não reconhece a variável cujo nome é **_abelha_** porque foi declarada como **_Abelha_**"
   ]
  },
  {
   "cell_type": "markdown",
   "metadata": {},
   "source": [
    "O nome de uma variável não pode conter espaços em branco."
   ]
  },
  {
   "cell_type": "code",
   "execution_count": null,
   "metadata": {},
   "outputs": [],
   "source": [
    "abelha operaria = 'zulu'\n",
    "abelha operaria"
   ]
  },
  {
   "cell_type": "markdown",
   "metadata": {},
   "source": [
    "Mas, é uma boa prática que o nome da variável seja auto explicativo. \n",
    "Então, se forem necessárias mais de uma palavra para a identificação de uma variável, você pode utilizar o \"_\":"
   ]
  },
  {
   "cell_type": "code",
   "execution_count": null,
   "metadata": {},
   "outputs": [],
   "source": [
    "abelha_operaria = 'zulu'\n",
    "abelha_operaria"
   ]
  },
  {
   "cell_type": "markdown",
   "metadata": {},
   "source": [
    "Não é permitido começar com o nome de uma variável com um número:"
   ]
  },
  {
   "cell_type": "code",
   "execution_count": null,
   "metadata": {},
   "outputs": [],
   "source": [
    "4belha = \"zulu\""
   ]
  },
  {
   "cell_type": "markdown",
   "metadata": {},
   "source": [
    "No entanto, é possível criar variáveis com nomes que contenham números não colocados na primeira casa:"
   ]
  },
  {
   "cell_type": "code",
   "execution_count": null,
   "metadata": {},
   "outputs": [],
   "source": [
    "Ab3lh4 = \"zulu\"\n",
    "Ab3lh4 "
   ]
  },
  {
   "cell_type": "markdown",
   "metadata": {},
   "source": [
    "## Manipulação de String\n",
    "  \n",
    "  **_Strings_** são basicamente sequências de caracteres simples e, no Python, elas vêm dentro de  **aspas simples** (‘....’) ou **aspas duplas** (“....”). \n",
    "  \n",
    "No Python, para se exibir conteúdos em geral ao usuário, a função **print()** é utilizada. \n",
    "\n",
    "Quando temos, por exemplo, uma variável **_String_** e desejamos checar seu conteúdo, basta usar a função mencionada:"
   ]
  },
  {
   "cell_type": "code",
   "execution_count": null,
   "metadata": {},
   "outputs": [],
   "source": [
    "x = \"estou aprendendo Python!\"\n",
    "print(x)"
   ]
  },
  {
   "cell_type": "markdown",
   "metadata": {},
   "source": [
    "Ou, no caso de utilizar o Jupyter Notebook, o conteúdo da variável pode ser visualizado apenas pelo nome da variável:"
   ]
  },
  {
   "cell_type": "code",
   "execution_count": null,
   "metadata": {},
   "outputs": [],
   "source": [
    "x"
   ]
  },
  {
   "cell_type": "code",
   "execution_count": null,
   "metadata": {},
   "outputs": [],
   "source": [
    "É possível juntar (concatenar) duas ou mais Strings utilizando o sinal de adição (+):\n"
   ]
  },
  {
   "cell_type": "code",
   "execution_count": null,
   "metadata": {},
   "outputs": [],
   "source": [
    "y = \" E estou feliz.\"\n",
    "print(x + y)"
   ]
  },
  {
   "cell_type": "markdown",
   "metadata": {},
   "source": [
    "Podemos saber a quantidade de caracteres de uma string por meio da função \"len\""
   ]
  },
  {
   "cell_type": "code",
   "execution_count": null,
   "metadata": {},
   "outputs": [],
   "source": [
    "len(x)"
   ]
  },
  {
   "cell_type": "markdown",
   "metadata": {},
   "source": [
    "Podemos colocar a primeira letra em maiúsculo utilizando a função \"capitalize\": "
   ]
  },
  {
   "cell_type": "code",
   "execution_count": null,
   "metadata": {},
   "outputs": [],
   "source": [
    "x.capitalize()"
   ]
  },
  {
   "cell_type": "markdown",
   "metadata": {},
   "source": [
    "Podemos separar os termos/ palavras que compõem uma string, tendo como referência um separador e utilizando a função **split()**"
   ]
  },
  {
   "cell_type": "code",
   "execution_count": null,
   "metadata": {},
   "outputs": [],
   "source": [
    "x.split()"
   ]
  },
  {
   "cell_type": "markdown",
   "metadata": {},
   "source": [
    "Vamos discutir algumas características deste resultado.\n",
    "Primeiramente, vamos verificar qual o tipo do resultado:"
   ]
  },
  {
   "cell_type": "code",
   "execution_count": null,
   "metadata": {},
   "outputs": [],
   "source": [
    "type(x.split())"
   ]
  },
  {
   "cell_type": "markdown",
   "metadata": {},
   "source": [
    "O tipo **list** (lista) é um conjunto de dados. Neste caso, cada termo da string foi representado como um elemento de um conjunto de dados. \n",
    "\n",
    "Uma lista pode ser entendida como uma sequência de valores, um vetor de dados.\n",
    "\n",
    "De forma geral, uma string é uma lista de caracteres. \n",
    "\n",
    "Para acessar um elemento qualquer da lista, deve-se informar o nome da variável/ lista e o índice do elemento.\n",
    "\n",
    "Vejamos com uma string:"
   ]
  },
  {
   "cell_type": "code",
   "execution_count": null,
   "metadata": {},
   "outputs": [],
   "source": [
    "print(x[0])\n",
    "print(x[1])\n",
    "print(x[6])"
   ]
  },
  {
   "cell_type": "markdown",
   "metadata": {},
   "source": [
    "É possível fazer o mesmo com intervalos. \n",
    "É importante notar que todo intervalo da forma [a:b][a:b] começa pelo caracter de número aa e vai até o caracter de número b−1b−1. \n",
    "\n",
    "Veja no exemplo a seguir:"
   ]
  },
  {
   "cell_type": "code",
   "execution_count": null,
   "metadata": {},
   "outputs": [],
   "source": [
    "print(x[2:6])"
   ]
  },
  {
   "cell_type": "markdown",
   "metadata": {},
   "source": [
    "## Operadores\n",
    "\n",
    "#### Para realizar operações matemáticas ou de comparação (lógicas - _True/False_) no Python, usamos os operadores:\n"
   ]
  },
  {
   "cell_type": "markdown",
   "metadata": {},
   "source": [
    "Para realizar soma, subtração, multiplicação ou divisão, usamos os seguinte comandos:"
   ]
  },
  {
   "cell_type": "code",
   "execution_count": null,
   "metadata": {},
   "outputs": [],
   "source": [
    "a = 2\n",
    "b = 3\n",
    "\n",
    "soma=a+b\n",
    "print(\"a + b = \",soma)\n",
    "\n",
    "subtracao= a-b\n",
    "print(\"a - b = \",subtracao)\n",
    "\n",
    "multiplicacao=a*b\n",
    "print(\"a * b = \",multiplicacao)\n",
    "\n",
    "divisao= a/b\n",
    "print (\"a / b = \",divisao)"
   ]
  },
  {
   "cell_type": "markdown",
   "metadata": {},
   "source": [
    "A potenciação, diferentemente de outras linguagens, é dada pelo duplo asterísco:"
   ]
  },
  {
   "cell_type": "code",
   "execution_count": null,
   "metadata": {},
   "outputs": [],
   "source": [
    "potenciacao=a**b\n",
    "print(\"Potenciação = a^b = \", potenciacao)"
   ]
  },
  {
   "cell_type": "markdown",
   "metadata": {},
   "source": [
    "Também podemos fazer comparações:"
   ]
  },
  {
   "cell_type": "code",
   "execution_count": null,
   "metadata": {},
   "outputs": [],
   "source": [
    "a == b"
   ]
  },
  {
   "cell_type": "code",
   "execution_count": null,
   "metadata": {},
   "outputs": [],
   "source": [
    "a > b"
   ]
  },
  {
   "cell_type": "code",
   "execution_count": null,
   "metadata": {},
   "outputs": [],
   "source": [
    "a < b"
   ]
  },
  {
   "cell_type": "markdown",
   "metadata": {},
   "source": [
    "Podemos deixar os testes lógicos ainda mais complexo com os conectores **and** e **or** :"
   ]
  },
  {
   "cell_type": "code",
   "execution_count": null,
   "metadata": {},
   "outputs": [],
   "source": [
    "a > b or a <= b"
   ]
  },
  {
   "cell_type": "code",
   "execution_count": null,
   "metadata": {},
   "outputs": [],
   "source": [
    "a > b and a <= b"
   ]
  },
  {
   "cell_type": "markdown",
   "metadata": {},
   "source": [
    "## Condicionais\n",
    "\n",
    "Condicionais são um testes lógicos da forma _True\\False_ que condicionam ações. \n",
    "\n",
    "Assim sendo, permitem seu código a realizar determinada ação caso o teste seja Verdadeiro ou Falso.\n",
    "\n",
    "A utilização dos condicionais é dada pelos comando **_if_**, **_elif_** e **_else_**. \n",
    "\n",
    "Agora vamos entender melhor como eles funcionam:"
   ]
  },
  {
   "cell_type": "markdown",
   "metadata": {},
   "source": [
    "**Interpretação da condição if**\n",
    "\n",
    "Interpretamos o comando abaixo como SE \"a\" for menor ou igual a \"b\" execute o \"print\":\n"
   ]
  },
  {
   "cell_type": "code",
   "execution_count": null,
   "metadata": {},
   "outputs": [],
   "source": [
    "if (a <= b):\n",
    "    print(\"Condição verdadeira\")"
   ]
  },
  {
   "cell_type": "markdown",
   "metadata": {},
   "source": [
    "Se a condição não for verdadeira mas desejarmos quisermos que outra ação seja feita, usamos o **else** (caso contrário)"
   ]
  },
  {
   "cell_type": "code",
   "execution_count": null,
   "metadata": {},
   "outputs": [],
   "source": [
    "if (a > b):\n",
    "    print(\"Condição verdadeira\")\n",
    "else:\n",
    "    print(\"Condição falsa\")"
   ]
  },
  {
   "cell_type": "markdown",
   "metadata": {},
   "source": [
    "Quando tivermos mais condições que queremos verificar se são atendidas, usamos o **elif**:"
   ]
  },
  {
   "cell_type": "code",
   "execution_count": null,
   "metadata": {},
   "outputs": [],
   "source": [
    "if (a > b):\n",
    "    print(\"Condição 1 verdadeira\")\n",
    "elif (a <= b):\n",
    "    print(\"Condição 2 verdadeira\")\n",
    "else:\n",
    "    print(\"Condições falsas\")"
   ]
  },
  {
   "cell_type": "markdown",
   "metadata": {},
   "source": [
    "## Listas\n",
    "\n",
    "Listas são estruturas de dados, podendo conter qualquer coisa, inclusive outra lista. \n",
    "\n",
    "Cada valor da lista é denominado *elemento* e recebe um índice que identifica sua posição na lista, a partir do 0:"
   ]
  },
  {
   "cell_type": "code",
   "execution_count": null,
   "metadata": {},
   "outputs": [],
   "source": [
    "lista = [2,'1',['abelha','vespa'],4,5.0]\n",
    "lista"
   ]
  },
  {
   "cell_type": "markdown",
   "metadata": {},
   "source": [
    "Para modificar uma lista basta escolher o índice que deseja alterar e colocá-lo dentro de colchetes **[ ]**, como abaixo:"
   ]
  },
  {
   "cell_type": "code",
   "execution_count": null,
   "metadata": {},
   "outputs": [],
   "source": [
    "lista[0] = 3\n",
    "lista"
   ]
  },
  {
   "cell_type": "markdown",
   "metadata": {},
   "source": [
    "A lista contém um elemento do tipo lista (['abelha','vespa']).\n",
    "É possível acessar listas dentro de listas também da seguinte forma: primeiro usamos o índice no qual a lista se encontra e depois usamos o índice que queremos da lista de dentro. \n",
    "Dessa maneira, podemos acessar um valor especifico da sublista:"
   ]
  },
  {
   "cell_type": "code",
   "execution_count": null,
   "metadata": {},
   "outputs": [],
   "source": [
    "print(lista[2][0])\n",
    "print(lista[2][1])"
   ]
  },
  {
   "cell_type": "markdown",
   "metadata": {},
   "source": [
    "Existem diversas funções que podem ser utilizadas com as listas. \n",
    "\n",
    "Função **len** para obter a quantidade de elementos da lista:"
   ]
  },
  {
   "cell_type": "code",
   "execution_count": null,
   "metadata": {},
   "outputs": [],
   "source": [
    "len(lista)"
   ]
  },
  {
   "cell_type": "markdown",
   "metadata": {},
   "source": [
    "Função **append** para adicionar um novo dado no final da lista:"
   ]
  },
  {
   "cell_type": "code",
   "execution_count": null,
   "metadata": {},
   "outputs": [],
   "source": [
    "lista.append(\"Novo\")\n",
    "lista"
   ]
  },
  {
   "cell_type": "markdown",
   "metadata": {},
   "source": [
    "Podemos, inclusive, adicionar um novo dado na lista interna:"
   ]
  },
  {
   "cell_type": "code",
   "execution_count": null,
   "metadata": {},
   "outputs": [],
   "source": [
    "lista[2].append(\"mosca\")\n",
    "lista"
   ]
  },
  {
   "cell_type": "markdown",
   "metadata": {},
   "source": [
    "Podemos verificar se um certo valor está na lista:"
   ]
  },
  {
   "cell_type": "code",
   "execution_count": null,
   "metadata": {},
   "outputs": [],
   "source": [
    "'Novo' in lista"
   ]
  },
  {
   "cell_type": "code",
   "execution_count": null,
   "metadata": {},
   "outputs": [],
   "source": [
    "6 in lista"
   ]
  },
  {
   "cell_type": "markdown",
   "metadata": {},
   "source": [
    "E o mesmo podemos fazer para a lista interna:\n"
   ]
  },
  {
   "cell_type": "code",
   "execution_count": null,
   "metadata": {},
   "outputs": [],
   "source": [
    "'vespa' in lista[2]"
   ]
  },
  {
   "cell_type": "markdown",
   "metadata": {},
   "source": [
    "# Tuplas"
   ]
  },
  {
   "cell_type": "markdown",
   "metadata": {},
   "source": [
    "Outro tipo de sequência de dados, semelhante à Lista, é a Tupla. \n",
    "\n",
    "Porém, diferentemente da Lista, a Tupla não pode ser alterada depois de criada:"
   ]
  },
  {
   "cell_type": "code",
   "execution_count": null,
   "metadata": {},
   "outputs": [],
   "source": [
    "tupla = (1,3,4,'tupla')\n",
    "tupla"
   ]
  },
  {
   "cell_type": "code",
   "execution_count": null,
   "metadata": {},
   "outputs": [],
   "source": [
    "print(tupla[2:3]) \n",
    "print(tupla[:2])\n",
    "print(tupla[2:])"
   ]
  },
  {
   "cell_type": "markdown",
   "metadata": {},
   "source": [
    "Uma discussão sobre o resultado acima:\n",
    "\n",
    "tupla[2:3] devolve como resultado o elemento do índice 2\n",
    "\n",
    "tupla [:2] devolve como resultado os elementos, desde o índice 0 (início) até o índice 1 (desconsidera o índice 2)\n",
    "\n",
    "tupla[2:] devolve como resultado os elementos desde o índice 2 (incluso) até o final (último elemento)"
   ]
  },
  {
   "cell_type": "code",
   "execution_count": null,
   "metadata": {},
   "outputs": [],
   "source": [
    "tupla.append(5)\n",
    "tupla[3] = 'altera'"
   ]
  },
  {
   "cell_type": "markdown",
   "metadata": {},
   "source": [
    "**Por que o erro?**\n",
    "\n",
    "Porque uma tupla, por definição, é um tipo de variável que não pode ser alterada."
   ]
  },
  {
   "cell_type": "markdown",
   "metadata": {},
   "source": [
    "## Dicionários"
   ]
  },
  {
   "cell_type": "markdown",
   "metadata": {},
   "source": [
    "Outro tipo de objeto semelhante às listas é o Dicionário. \n",
    "\n",
    "O dicionário armazena uma sequência de objetos no qual cada item é uma **chave**, que é associada a um **valor**:\n"
   ]
  },
  {
   "cell_type": "code",
   "execution_count": null,
   "metadata": {},
   "outputs": [],
   "source": [
    "dicionario={'frutas': ['goiaba', 'maçã', 'pêra'],\n",
    "            'legumes': ['batata','cenoura','inhame'],\n",
    "            'animal': ['abelha','elefante','coelho']}\n",
    "dicionario"
   ]
  },
  {
   "cell_type": "markdown",
   "metadata": {},
   "source": [
    "Podemos acessar um conteúdo específico por meio da **chave**:"
   ]
  },
  {
   "cell_type": "code",
   "execution_count": null,
   "metadata": {},
   "outputs": [],
   "source": [
    "dicionario['frutas']"
   ]
  },
  {
   "cell_type": "markdown",
   "metadata": {},
   "source": [
    "## Loops de repetição\n",
    "\n",
    "Os loops são estruturas usadas para repetir o mesmo bloco de comandos várias vezes. \n",
    "\n",
    "Estudaremos duas função de repetição do Python: **while():** e o  **for**."
   ]
  },
  {
   "cell_type": "markdown",
   "metadata": {},
   "source": [
    "Interpretamos o **while** da seguinte forma: \n",
    "\n",
    "**enquanto** a condição que está entre parêntesis for verdadeira, execute uma ação específica (a que está abaixo do comando while - neste caso, apresenta o valor da variável a e em seguida soma 1 àquela variável).\n",
    "quando a condição não for mais satisfeita (ou seja, neste caso quando a > 6), executa o comando que está do lado de fora."
   ]
  },
  {
   "cell_type": "code",
   "execution_count": null,
   "metadata": {},
   "outputs": [],
   "source": [
    "a = 0\n",
    "\n",
    "while(a <= 6):\n",
    "    print(a)\n",
    "    a=a+1\n",
    "\n",
    "print(\"O número a não satisfaz mais a condição a<=6, pois a=\",a,\".\")  "
   ]
  },
  {
   "cell_type": "markdown",
   "metadata": {},
   "source": [
    "Vejamos o exemplo a seguir.\n",
    "É solicitado ao usuário que digite o nome de um animal qualquer.\n",
    "O valor digitado pelo usuário é armazenado na variável **animal**\n",
    "\n",
    "O código abaixo faz uma validação do nome digitado  pelo usuário e **enquanto** for diferente de **abelha** será solicitado ao usuário um novo nome."
   ]
  },
  {
   "cell_type": "code",
   "execution_count": null,
   "metadata": {},
   "outputs": [],
   "source": [
    "animal =''\n",
    "while ( animal != 'abelha'):\n",
    "    animal = input(\"Digite o animal correto: \")\n",
    "    if ( animal == 'abelha'):\n",
    "        print(\"Parabéns! Você acertou e saiu do loop.\")\n",
    "    else:\n",
    "        print(\"Animal errado! Continue no loop.\")\n"
   ]
  },
  {
   "cell_type": "markdown",
   "metadata": {},
   "source": [
    "O **for** está mais associado a um determinado número de repetições, diferentemente do **while** que está diretamente ligado uma condição lógica:"
   ]
  },
  {
   "cell_type": "code",
   "execution_count": null,
   "metadata": {},
   "outputs": [],
   "source": [
    "for i in range(0,3):\n",
    "    print(i)"
   ]
  },
  {
   "cell_type": "markdown",
   "metadata": {},
   "source": [
    "Vamos entender este resultado:\n",
    "\n",
    "O comando que está no laço de repetição (**print(i)**) é executado, **i** assumindo cada um dos valores dentro da faixa/ range (0,3)"
   ]
  },
  {
   "cell_type": "markdown",
   "metadata": {},
   "source": [
    "Podemos, utilizando **for**, percorrer uma lista:"
   ]
  },
  {
   "cell_type": "code",
   "execution_count": null,
   "metadata": {},
   "outputs": [],
   "source": [
    "lista = [2,'1',['abelha'],4,5.0]\n",
    "\n",
    "for i in lista:\n",
    "    print(i)"
   ]
  },
  {
   "cell_type": "markdown",
   "metadata": {},
   "source": [
    "## Arquivos\n",
    "\n",
    "A manipulação de arquivos é algo muito prático no Python. \n",
    "\n",
    "Ela é utilizada quando queremos usar um arquivo (.txt, por exemplo) como entrada de dados para um código, ou seja, os dados não vem diretamente do usuário e tampouco são inseridos diretamente no código fonte - vem de algum repositório de dados externo."
   ]
  },
  {
   "cell_type": "markdown",
   "metadata": {},
   "source": [
    "Para criar um arquivo, utilizamos a função **open** com os seguintes parâmetros:\n",
    "\n",
    "**filename** -  o nome do arquivo entre aspas duplas \n",
    "\n",
    "**mode** - modo entre aspas simples ('w' para escrita, 'r' para leitura)"
   ]
  },
  {
   "cell_type": "code",
   "execution_count": null,
   "metadata": {},
   "outputs": [],
   "source": [
    "arquivo = open(\"FirstFile.txt\",'w') "
   ]
  },
  {
   "cell_type": "markdown",
   "metadata": {},
   "source": [
    "Vamos, então, salvar/ escrever algo neste arquivo:"
   ]
  },
  {
   "cell_type": "markdown",
   "metadata": {},
   "source": [
    "1 - Atribuindo um texto:"
   ]
  },
  {
   "cell_type": "code",
   "execution_count": null,
   "metadata": {},
   "outputs": [],
   "source": [
    "\n",
    "string =\"\"\"\n",
    "      Data Science\n",
    "    ****************\n",
    "  Faça parte da revolução \n",
    "\"\"\"\n",
    "\n",
    "arquivo.write(string)"
   ]
  },
  {
   "cell_type": "markdown",
   "metadata": {},
   "source": [
    "Outra forma de escrever no arquivo é adicionar listas:"
   ]
  },
  {
   "cell_type": "code",
   "execution_count": null,
   "metadata": {},
   "outputs": [],
   "source": [
    "outra_forma= [] \n",
    "outra_forma.append(\"\\n Outra forma\\n \")\n",
    "outra_forma.append(\"De adicionar\")\n",
    "\n",
    "arquivo.writelines(outra_forma)\n"
   ]
  },
  {
   "cell_type": "markdown",
   "metadata": {},
   "source": [
    "Todo arquivo deve ser fechado após edição por meio da função **close()**"
   ]
  },
  {
   "cell_type": "code",
   "execution_count": null,
   "metadata": {},
   "outputs": [],
   "source": [
    "arquivo.close()"
   ]
  },
  {
   "cell_type": "markdown",
   "metadata": {},
   "source": [
    "Agora vá até o diretório local e abra o arquivo **FirstFile.txt\"**"
   ]
  },
  {
   "cell_type": "markdown",
   "metadata": {},
   "source": [
    "Podemos verificar o conteúdo de um arquivo, lendo-o por meio da função **read()**\n",
    "\n",
    "Para isso, precisamos primeiramente habilitá-lo para leitura, por meio do parâmetro **mode** no comando **open**"
   ]
  },
  {
   "cell_type": "code",
   "execution_count": null,
   "metadata": {},
   "outputs": [],
   "source": [
    "arquivo = open(\"FirstFile.txt\",'r')\n",
    "text = arquivo.read()\n",
    "print(text)"
   ]
  },
  {
   "cell_type": "markdown",
   "metadata": {},
   "source": [
    "Não esqueça de fechar o arquivo após a sua manipulação - seja para leitura ou escrita:"
   ]
  },
  {
   "cell_type": "code",
   "execution_count": null,
   "metadata": {},
   "outputs": [],
   "source": [
    "arquivo.close()"
   ]
  },
  {
   "cell_type": "markdown",
   "metadata": {},
   "source": [
    "** OBS: A manipulação de arquivos será tratada com mais detalhes posteriormente, na biblioteca Pandas **"
   ]
  },
  {
   "cell_type": "markdown",
   "metadata": {},
   "source": [
    "## Funções\n",
    "\n",
    "Para finalizarmos o conteúdo mais básico de programação com Python, vamos aprender **funções**. \n",
    "\n",
    "Funções são trechos de código que executam uma tarefa específica e que suas definições ficam fora do código principal. \n",
    "\n",
    "Mesmo que suas definições fiquem fora do código principal, as funções são utilizadas ao longo dele. \n",
    "\n",
    "Assim sendo, as funções deixam o código mais limpo e possibilitam que mudanças sejam feitas mais facilmente."
   ]
  },
  {
   "cell_type": "markdown",
   "metadata": {},
   "source": [
    "Suponhamos que, para um dado valor, desejo obter o seu quadrado.\n",
    "\n",
    "Vamos criar uma função que faça isso:"
   ]
  },
  {
   "cell_type": "code",
   "execution_count": null,
   "metadata": {},
   "outputs": [],
   "source": [
    "def quadrado(x):\n",
    "    return x*x"
   ]
  },
  {
   "cell_type": "markdown",
   "metadata": {},
   "source": [
    "Vamos entender:\n",
    "\n",
    "**def quadrado (x)**:\n",
    "\n",
    "**def** é um mnemônico da linguagem, para idenficar a definição de uma função\n",
    "\n",
    "**quadrado** é, neste caso, o nome da função\n",
    "\n",
    "**x** é o parâmetro de entrada da função, um valor que é passado para a mesma\n",
    "\n",
    "**return x*x** é o valor retornado pela função, o resultado."
   ]
  },
  {
   "cell_type": "markdown",
   "metadata": {},
   "source": [
    "Podemos utilizar a função, invocando-a pelo seu nome e passando como parâmetro qualquer valor:"
   ]
  },
  {
   "cell_type": "code",
   "execution_count": null,
   "metadata": {},
   "outputs": [],
   "source": [
    "quadrado(-2)"
   ]
  },
  {
   "cell_type": "code",
   "execution_count": null,
   "metadata": {},
   "outputs": [],
   "source": [
    "quadrado(8)"
   ]
  },
  {
   "cell_type": "markdown",
   "metadata": {},
   "source": [
    "Inclusive, o parâmetro pode ser definido pelo usuário via teclado:\n",
    "\n",
    "**OBS: na execução do código abaixo, será aberta uma linha de interação com o usuário. Digite o valor desejado e pressione ENTER para continuar**"
   ]
  },
  {
   "cell_type": "code",
   "execution_count": null,
   "metadata": {},
   "outputs": [],
   "source": [
    "x = int(input(\"Digite um valor: \"))\n",
    "y = quadrado(x)\n",
    "print(y)"
   ]
  },
  {
   "cell_type": "markdown",
   "metadata": {},
   "source": [
    "Uma função pode receber uma lista de parâmetros:"
   ]
  },
  {
   "cell_type": "code",
   "execution_count": null,
   "metadata": {},
   "outputs": [],
   "source": [
    "def calcula_juros (VP,i,n):\n",
    "    return VP*(1+i)**n"
   ]
  },
  {
   "cell_type": "code",
   "execution_count": null,
   "metadata": {},
   "outputs": [],
   "source": [
    "print(calcula_juros(2000,0.2,12))"
   ]
  },
  {
   "cell_type": "markdown",
   "metadata": {},
   "source": [
    "**OBS: quando a função é chamada, os valores são copiados para as variáveis definidas como argumentos da função.**\n",
    "\n",
    "Assim, no caso acima, VP = 2000, i = 0.2 e n = 12"
   ]
  },
  {
   "cell_type": "markdown",
   "metadata": {},
   "source": [
    "## VAMOS EXERCITAR UM POUCO??"
   ]
  },
  {
   "cell_type": "markdown",
   "metadata": {},
   "source": [
    "### Exercício 1: \n",
    "\n",
    "Faça um código no qual o usuário entre com a idade e o programa informe em qual faixa etária ela se encontra (criança, adolescente, adulto, idoso). \n",
    "De preferência utilize a função **input()**.\n",
    "\n",
    "**OBS: Você deve decidir quais os pontos de corte entre as categorias.**"
   ]
  },
  {
   "cell_type": "code",
   "execution_count": null,
   "metadata": {},
   "outputs": [],
   "source": [
    "#coloque aqui seu código\n"
   ]
  },
  {
   "cell_type": "markdown",
   "metadata": {},
   "source": [
    "### Exercício 2: \n",
    "\n",
    "Faça um código no qual o usuário entre com um número inteiro e o programa retorne se o número é par ou ímpar. De preferência utilize a função **input()**."
   ]
  },
  {
   "cell_type": "code",
   "execution_count": null,
   "metadata": {},
   "outputs": [],
   "source": [
    "#coloque aqui seu código\n"
   ]
  },
  {
   "cell_type": "markdown",
   "metadata": {},
   "source": [
    "### Exercício 3:\n",
    "\n",
    "Crie uma lista de números (com pelo menos 10 elementos) e ordene os números de forma crescente dentro da lista."
   ]
  },
  {
   "cell_type": "code",
   "execution_count": null,
   "metadata": {},
   "outputs": [],
   "source": [
    "#coloque aqui seu código\n"
   ]
  },
  {
   "cell_type": "markdown",
   "metadata": {},
   "source": [
    "### Exercício 4:\n",
    "\n",
    "Crie duas listas de números (com pelo menos 7 elementos cada uma), concatene as listas e ordene os números de forma decrescente."
   ]
  },
  {
   "cell_type": "code",
   "execution_count": null,
   "metadata": {},
   "outputs": [],
   "source": [
    "#coloque aqui seu código\n"
   ]
  },
  {
   "cell_type": "markdown",
   "metadata": {},
   "source": [
    "### Exercício 5:\n",
    "\n",
    "Fazer uma função que ordene uma lista (de tamanho N), como nos exercícios anteriores."
   ]
  },
  {
   "cell_type": "code",
   "execution_count": null,
   "metadata": {},
   "outputs": [],
   "source": [
    "#coloque aqui seu código\n"
   ]
  },
  {
   "cell_type": "markdown",
   "metadata": {},
   "source": [
    "### Exercício 6:\n",
    "\n",
    "Fazer uma função que retorne quais números de uma lista numérica são pares e quais são ímpares."
   ]
  },
  {
   "cell_type": "code",
   "execution_count": null,
   "metadata": {},
   "outputs": [],
   "source": [
    "#coloque aqui seu código\n"
   ]
  }
 ],
 "metadata": {
  "kernelspec": {
   "display_name": "Python 3",
   "language": "python",
   "name": "python3"
  },
  "language_info": {
   "codemirror_mode": {
    "name": "ipython",
    "version": 3
   },
   "file_extension": ".py",
   "mimetype": "text/x-python",
   "name": "python",
   "nbconvert_exporter": "python",
   "pygments_lexer": "ipython3",
   "version": "3.5.2"
  },
  "widgets": {
   "state": {},
   "version": "1.1.2"
  }
 },
 "nbformat": 4,
 "nbformat_minor": 2
}
