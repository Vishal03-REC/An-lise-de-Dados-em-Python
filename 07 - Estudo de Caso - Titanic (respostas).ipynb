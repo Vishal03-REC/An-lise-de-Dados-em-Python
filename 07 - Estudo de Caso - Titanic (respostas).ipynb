{
 "cells": [
  {
   "cell_type": "markdown",
   "metadata": {},
   "source": [
    "## Estudo de caso: Titanic"
   ]
  },
  {
   "cell_type": "markdown",
   "metadata": {},
   "source": [
    "Você deve criar aqui um notebook para análise exploratória dos dados do Dataset Titanic.\n",
    "\n",
    "Tenha como base as funções e métodos apresentados em sala de aula."
   ]
  },
  {
   "cell_type": "markdown",
   "metadata": {},
   "source": [
    "### Tratamento dos Dados"
   ]
  },
  {
   "cell_type": "markdown",
   "metadata": {},
   "source": [
    "1 - Importe as bibliotecas pandas e matplotlib"
   ]
  },
  {
   "cell_type": "code",
   "execution_count": null,
   "metadata": {},
   "outputs": [],
   "source": [
    "import matplotlib.pyplot as plt\n",
    "import pandas as pd"
   ]
  },
  {
   "cell_type": "markdown",
   "metadata": {},
   "source": [
    "2 - Crie um DataFrame a partir do arquivo titanic.csv"
   ]
  },
  {
   "cell_type": "code",
   "execution_count": null,
   "metadata": {},
   "outputs": [],
   "source": [
    "titanic = pd.read_csv('titanic.csv')\n",
    "titanic"
   ]
  },
  {
   "cell_type": "markdown",
   "metadata": {},
   "source": [
    "3 - Renomeie as colunas, de forma que os campos sejam melhor identificados (tenha como base o Dicionário de Dados)"
   ]
  },
  {
   "cell_type": "code",
   "execution_count": null,
   "metadata": {},
   "outputs": [],
   "source": [
    "titanic.columns = ['ID_Passageiro', 'Sobreviveu?', 'Classe', 'Nome', 'Sexo', 'Idade', 'Filhos',\n",
    "       'Pais', 'Ticket', 'Valor Pago', 'Cabine', 'Embarcado em']\n",
    "\n",
    "titanic['Sexo'].replace('female','feminino',inplace=True)\n",
    "titanic['Sexo'].replace('male','masculino',inplace=True)"
   ]
  },
  {
   "cell_type": "markdown",
   "metadata": {},
   "source": [
    "4 - Inspecione a quantidade de valores \"missing\" no Dataset (em quais campos estão localizados)?"
   ]
  },
  {
   "cell_type": "code",
   "execution_count": null,
   "metadata": {},
   "outputs": [],
   "source": [
    "titanic.isna().sum()"
   ]
  },
  {
   "cell_type": "markdown",
   "metadata": {},
   "source": [
    "5 - Para tratar os dados faltantes, defina estratégias:"
   ]
  },
  {
   "cell_type": "markdown",
   "metadata": {},
   "source": [
    "5.1 - Estratégia 1 (Campo Embarked):"
   ]
  },
  {
   "cell_type": "code",
   "execution_count": null,
   "metadata": {},
   "outputs": [],
   "source": [
    "titanic['Embarcado em'].fillna(titanic['Embarcado em'].mode()[0],inplace=True)"
   ]
  },
  {
   "cell_type": "code",
   "execution_count": null,
   "metadata": {},
   "outputs": [],
   "source": [
    "titanic['Embarcado em'].isna().sum()"
   ]
  },
  {
   "cell_type": "markdown",
   "metadata": {},
   "source": [
    "5.2 - Estratégia 2 (Campo Age):"
   ]
  },
  {
   "cell_type": "code",
   "execution_count": null,
   "metadata": {},
   "outputs": [],
   "source": [
    "# Extrair titulo de tratamento do campo nome, criando uma nova coluna no dataset - campo Title\n",
    "#print(titanic)\n",
    "\n",
    "title = titanic['Nome'].str.split(',')\n",
    "\n",
    "title = [title[1].strip().split('.')[0] for title in\n",
    "                        titanic['Nome'].str.split(',')]\n",
    "\n",
    "titanic['Titulo']=title\n"
   ]
  },
  {
   "cell_type": "markdown",
   "metadata": {},
   "source": [
    "### ** Discutir sobre a função groupby**"
   ]
  },
  {
   "cell_type": "code",
   "execution_count": null,
   "metadata": {},
   "outputs": [],
   "source": [
    "# aqui"
   ]
  },
  {
   "cell_type": "code",
   "execution_count": null,
   "metadata": {},
   "outputs": [],
   "source": [
    "#Media da idade por titulo\n",
    "AgebyTitle = titanic['Idade'].groupby(titanic['Titulo']).mean().reset_index()\n",
    "titanic"
   ]
  },
  {
   "cell_type": "code",
   "execution_count": null,
   "metadata": {},
   "outputs": [],
   "source": [
    "#fazer outros agrupamentos\n",
    "#Passageiros por sexo\n",
    "#Passageiros por classe\n",
    "#Passageiros por quantidade de filhos"
   ]
  },
  {
   "cell_type": "code",
   "execution_count": null,
   "metadata": {},
   "outputs": [],
   "source": [
    "#inclui coluna de idade por titulo\n",
    "titanic = pd.merge(titanic,AgebyTitle,on='Titulo')\n",
    "titanic"
   ]
  },
  {
   "cell_type": "code",
   "execution_count": null,
   "metadata": {},
   "outputs": [],
   "source": [
    "#Substituir idades faltantes\n",
    "titanic['Idade_x'].fillna(titanic['Idade_y'],inplace=True)"
   ]
  },
  {
   "cell_type": "markdown",
   "metadata": {},
   "source": [
    "5.3 - Estratégia 3 (Campo Cabin):"
   ]
  },
  {
   "cell_type": "code",
   "execution_count": null,
   "metadata": {},
   "outputs": [],
   "source": [
    "titanic['IsCabin'] = 1\n",
    "titanic.loc[titanic['Cabine'].isna(),'IsCabin'] = 0"
   ]
  },
  {
   "cell_type": "markdown",
   "metadata": {},
   "source": [
    "Verifica valores faltantes:"
   ]
  },
  {
   "cell_type": "code",
   "execution_count": null,
   "metadata": {},
   "outputs": [],
   "source": [
    "titanic.isna().sum()"
   ]
  },
  {
   "cell_type": "markdown",
   "metadata": {},
   "source": [
    "** OBS: Não esqueça de persistir o tratamento realizado (utilize inplace = True nas modificações) **"
   ]
  },
  {
   "cell_type": "markdown",
   "metadata": {},
   "source": [
    "6 - Salve o DataFrame tratado em uma arquivo .csv"
   ]
  },
  {
   "cell_type": "code",
   "execution_count": null,
   "metadata": {},
   "outputs": [],
   "source": [
    "titanic.to_csv('titanic2.csv',sep=',')"
   ]
  },
  {
   "cell_type": "markdown",
   "metadata": {},
   "source": [
    "7 - Realize o pivoteamento dos dados de forma a apresentar a quantidade de passageiros que sobreviveram ou não, por sexo."
   ]
  },
  {
   "cell_type": "code",
   "execution_count": null,
   "metadata": {},
   "outputs": [],
   "source": [
    "tabela_sobrevivencia = pd.pivot_table(titanic,'ID_Passageiro','Sexo','Sobreviveu?','count')\n",
    "tabela_sobrevivencia"
   ]
  },
  {
   "cell_type": "markdown",
   "metadata": {},
   "source": [
    "### Visualização de Dados"
   ]
  },
  {
   "cell_type": "markdown",
   "metadata": {},
   "source": [
    "8 - Apresente a distribuição de passageiros por sexo."
   ]
  },
  {
   "cell_type": "code",
   "execution_count": null,
   "metadata": {},
   "outputs": [],
   "source": [
    "%matplotlib inline\n",
    "import numpy as np\n",
    "num_mulheres = titanic[titanic['Sexo']=='feminino']['ID_Passageiro'].count()\n",
    "num_homens = titanic[titanic['Sexo']=='masculino']['ID_Passageiro'].count()\n",
    "x=np.arange(2)\n",
    "plt.bar(x, [num_mulheres,num_homens])\n",
    "plt.xticks(x, ('Feminino', 'Masculino'))"
   ]
  },
  {
   "cell_type": "markdown",
   "metadata": {},
   "source": [
    "9 - Apresente a distribuição de passageiros por sexo e por status de sobrevivência (utilize o gráfico Barras)"
   ]
  },
  {
   "cell_type": "code",
   "execution_count": null,
   "metadata": {},
   "outputs": [],
   "source": [
    "tabela_sobrevivencia.plot.bar()"
   ]
  },
  {
   "cell_type": "code",
   "execution_count": null,
   "metadata": {},
   "outputs": [],
   "source": [
    "10 - Apresente o percentual de sobrevivência ou não por sexo (utilize o gráfico Pizza)"
   ]
  },
  {
   "cell_type": "code",
   "execution_count": null,
   "metadata": {},
   "outputs": [],
   "source": [
    "fig,eixos = plt.subplots(nrows=1,\n",
    "                         ncols=2,\n",
    "                         figsize=(8,4))\n",
    "\n",
    "pizza_f =tabela_sobrevivencia.loc['feminino']\n",
    "pizza_m =tabela_sobrevivencia.loc['masculino']\n",
    "\n",
    "pizza_1 = eixos[0].pie(pizza_f,\n",
    "                       labels=['Nao','Sim'],\n",
    "                       autopct='%.1f',\n",
    "                       colors=['blue','pink'])\n",
    "\n",
    "pizza_2 = eixos[1].pie(pizza_m,\n",
    "                       labels=['Nao','Sim'],\n",
    "                       autopct='%.1f',\n",
    "                       colors=['blue','pink'])"
   ]
  },
  {
   "cell_type": "markdown",
   "metadata": {},
   "source": [
    "10 - Sabemos que durante desastres e situações emergênciais, mulheres e crianças são os primeiros a serem evacuados. \n",
    "\n",
    "Vale lembrar que a maioridade na Inglaterra no século XX — que persiste até hoje — é de 10 anos. \n",
    "\n",
    "Apresente resultados referentes aos prioritários (mulheres e crianças). Você está livre para a forma de apresentação, porém seja coerente."
   ]
  },
  {
   "cell_type": "code",
   "execution_count": null,
   "metadata": {},
   "outputs": [],
   "source": []
  },
  {
   "cell_type": "markdown",
   "metadata": {},
   "source": [
    "11 - Aproveitando a análise anterior, você pode apresentar:\n",
    "- dentre os sobreviventes qual a proporção de crianças?\n",
    "- dentre as crianças sobreviventes, quantas são do sexo masculino e quantas do sexo feminino? Em qual classe estavam?"
   ]
  },
  {
   "cell_type": "markdown",
   "metadata": {},
   "source": [
    "** 11 - Vamos analisar as classes em que os clientes estavam no Titanic.**\n",
    "\n",
    "Será que aqueles que estavam em uma classe mais refinada tiveram maiores chances de sobrevivência do que quem estava na parte inferior do navio?"
   ]
  },
  {
   "cell_type": "markdown",
   "metadata": {},
   "source": [
    "11.1 - Apresente, inicialmente, a proporção de sobreviventes por classe"
   ]
  },
  {
   "cell_type": "code",
   "execution_count": null,
   "metadata": {},
   "outputs": [],
   "source": [
    "import seaborn as sns\n",
    "import pandas as pd\n",
    "\n",
    "titanic = pd.read_csv('titanic.csv')\n",
    "titanic"
   ]
  },
  {
   "cell_type": "code",
   "execution_count": null,
   "metadata": {},
   "outputs": [],
   "source": [
    "\n",
    "sobreviventes_classe = titanic[titanic['Survived']==1]\n",
    "sobreviventes_classe"
   ]
  },
  {
   "cell_type": "code",
   "execution_count": null,
   "metadata": {},
   "outputs": [],
   "source": [
    "import matplotlib as plt\n",
    "import numpy as np\n",
    "\n",
    "classe1 = titanic[titanic['Pclass']==1]['PassengerId'].count()\n",
    "classe2 = titanic[titanic['Pclass']==2]['PassengerId'].count()\n",
    "classe3 = titanic[titanic['Pclass']==3]['PassengerId'].count()\n",
    "x=np.arange(3)\n",
    "\n",
    "plt.bar(x, [classe1,classe2,classe3])\n",
    "plt.xticks(x, ('Classe 1', 'Classe 2','Classe 3'))\n"
   ]
  },
  {
   "cell_type": "code",
   "execution_count": null,
   "metadata": {},
   "outputs": [],
   "source": []
  }
 ],
 "metadata": {
  "kernelspec": {
   "display_name": "Python 3",
   "language": "python",
   "name": "python3"
  },
  "language_info": {
   "codemirror_mode": {
    "name": "ipython",
    "version": 3
   },
   "file_extension": ".py",
   "mimetype": "text/x-python",
   "name": "python",
   "nbconvert_exporter": "python",
   "pygments_lexer": "ipython3",
   "version": "3.5.2"
  },
  "widgets": {
   "state": {},
   "version": "1.1.2"
  }
 },
 "nbformat": 4,
 "nbformat_minor": 2
}
