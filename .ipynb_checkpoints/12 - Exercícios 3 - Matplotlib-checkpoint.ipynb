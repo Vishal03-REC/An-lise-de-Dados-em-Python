{
 "cells": [
  {
   "cell_type": "markdown",
   "metadata": {},
   "source": [
    "# Exercícios - Análise Exploratória de Dados com MATPLOTLIB\n",
    "\n",
    "\n",
    "Bem-vindo aos exercícios de matplotlib! \n",
    "\n",
    "** * NOTA: TODOS OS COMANDOS PARA PLOTAR UMA FIGURA DEVEM ESTAR NA MESMA CÉLULA. * **\n",
    "\n",
    "Siga as instruções para recriar os gráficos usando esses dados:\n",
    "\n",
    "## Data"
   ]
  },
  {
   "cell_type": "code",
   "execution_count": null,
   "metadata": {},
   "outputs": [],
   "source": [
    "import numpy as np\n",
    "x = np.arange(0,100)\n",
    "y = x*2\n",
    "z = x**2"
   ]
  },
  {
   "cell_type": "markdown",
   "metadata": {},
   "source": [
    "** Importe matplotlib.pyplot como plt e defina% matplotlib inline se você estiver usando o notebook jupyter. Qual comando você usa se você não estiver usando o notebook jupyter? **"
   ]
  },
  {
   "cell_type": "code",
   "execution_count": null,
   "metadata": {},
   "outputs": [],
   "source": [
    "import matplotlib.pyplot as plt\n",
    "%matplotlib inline\n"
   ]
  },
  {
   "cell_type": "markdown",
   "metadata": {},
   "source": [
    "## Exercício 1\n",
    "\n",
    "** Acompanhe estes passos: **\n",
    "* ** Crie um objeto de figura chamado fig usando plt.figure () **\n",
    "* ** Use add_axes para adicionar um eixo à tela de figura em [0,0,1,1]. Chame esse novo eixo de \"ax\". **\n",
    "* ** Plote (x, y) nesses eixos e defina os rótulos e títulos para corresponder ao gráfico abaixo: **"
   ]
  },
  {
   "cell_type": "code",
   "execution_count": null,
   "metadata": {},
   "outputs": [],
   "source": [
    "# Coloque seu código aqui"
   ]
  },
  {
   "cell_type": "markdown",
   "metadata": {},
   "source": [
    "## Exercício 2\n",
    "** Crie um objeto de figura e coloque dois eixos sobre ele, ax1 e ax2. Localizado em [0,0,1,1] e [0,2,0,5, .2, .2], respectivamente. **"
   ]
  },
  {
   "cell_type": "code",
   "execution_count": null,
   "metadata": {},
   "outputs": [],
   "source": [
    "# Coloque seu código aqui"
   ]
  },
  {
   "cell_type": "markdown",
   "metadata": {},
   "source": [
    "** Agora plote (x, y) em ambos os eixos. E chame seu objeto de figura para mostrá-lo. **"
   ]
  },
  {
   "cell_type": "code",
   "execution_count": null,
   "metadata": {},
   "outputs": [],
   "source": [
    "# Coloque seu código aqui"
   ]
  },
  {
   "cell_type": "markdown",
   "metadata": {},
   "source": [
    "## Exercício 3\n",
    "\n",
    "** Crie o gráfico, adicionando dois eixos a um objeto de figura em [0,0,1,1] e [0,2,0,5, .4, .4] **"
   ]
  },
  {
   "cell_type": "code",
   "execution_count": null,
   "metadata": {},
   "outputs": [],
   "source": [
    "# Coloque seu código aqui"
   ]
  },
  {
   "cell_type": "markdown",
   "metadata": {},
   "source": [
    "** Agora use x, y e z arrays para recriar o gráfico abaixo. Defina limites xlimits e y no gráfico inserido: **"
   ]
  },
  {
   "cell_type": "code",
   "execution_count": null,
   "metadata": {},
   "outputs": [],
   "source": [
    "# Coloque seu código aqui"
   ]
  },
  {
   "cell_type": "markdown",
   "metadata": {},
   "source": [
    "## Exercício 4\n",
    "\n",
    "** Use plt.subplots (nrows = 1, ncols = 2) para criar um gráfico abaixo. **"
   ]
  },
  {
   "cell_type": "code",
   "execution_count": null,
   "metadata": {},
   "outputs": [],
   "source": [
    "# Coloque seu código aqui"
   ]
  },
  {
   "cell_type": "markdown",
   "metadata": {},
   "source": [
    "** Agora trace (x, y) e (x, z) nos eixos.**\n",
    "\n",
    "** Defina largura de linha e o estilo da mesma. **"
   ]
  },
  {
   "cell_type": "code",
   "execution_count": null,
   "metadata": {},
   "outputs": [],
   "source": [
    "# Coloque seu código aqui"
   ]
  },
  {
   "cell_type": "markdown",
   "metadata": {},
   "source": [
    "** Veja se você pode redimensionar o gráfico adicionando o argumento figsize () em plt.subplots () apenas copiando e colando seu código anterior. **"
   ]
  },
  {
   "cell_type": "code",
   "execution_count": null,
   "metadata": {},
   "outputs": [],
   "source": [
    "# Coloque seu código aqui"
   ]
  }
 ],
 "metadata": {
  "kernelspec": {
   "display_name": "Python 3",
   "language": "python",
   "name": "python3"
  },
  "language_info": {
   "codemirror_mode": {
    "name": "ipython",
    "version": 3
   },
   "file_extension": ".py",
   "mimetype": "text/x-python",
   "name": "python",
   "nbconvert_exporter": "python",
   "pygments_lexer": "ipython3",
   "version": "3.5.2"
  },
  "widgets": {
   "state": {},
   "version": "1.1.2"
  }
 },
 "nbformat": 4,
 "nbformat_minor": 1
}
